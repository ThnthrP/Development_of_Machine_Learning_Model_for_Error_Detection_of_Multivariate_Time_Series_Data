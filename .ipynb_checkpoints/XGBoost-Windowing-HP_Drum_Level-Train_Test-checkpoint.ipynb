{
 "cells": [
  {
   "cell_type": "markdown",
   "id": "c5a17f0a",
   "metadata": {},
   "source": [
    "# 1. Import Library"
   ]
  },
  {
   "cell_type": "code",
   "execution_count": 1,
   "id": "82f29f7a",
   "metadata": {},
   "outputs": [],
   "source": [
    "import pandas as pd\n",
    "import numpy as np\n",
    "import utils_stats\n",
    "from sklearn.model_selection import train_test_split\n",
    "import xgboost as xgb\n",
    "from sklearn.multioutput import MultiOutputRegressor\n",
    "from sklearn.metrics import mean_absolute_error\n",
    "import matplotlib.pyplot as plt"
   ]
  },
  {
   "cell_type": "markdown",
   "id": "90176d9c",
   "metadata": {},
   "source": [
    "# 2. Define hyperparameters and other important variables"
   ]
  },
  {
   "cell_type": "code",
   "execution_count": 2,
   "id": "9a5106f0",
   "metadata": {},
   "outputs": [],
   "source": [
    "target_variable = \"Class\"\n",
    "Mean = \"Mean\"\n",
    "SD = \"SD\"\n",
    "Variance = \"Variance\"\n",
    "Range = \"Range\"\n",
    "\n",
    "timestamp_col = \"DATETIME\"\n",
    "\n",
    "target_sequence_length = 1\n",
    "\n",
    "test_size = 0.30\n",
    "\n",
    "first_day_test = \"2022-01-01 00:00:00\" #21/2/2022  18:53:00 \n",
    "\n",
    "last_day_test = \"2022-06-04 17:46:00\" #4/6/2022  17:46:00\n",
    "\n",
    "hyperparameters = {\n",
    "    \"in_length\" : 5,\n",
    "    \"step_size\" : 1,\n",
    "    \"n_estimators\" : 20,     #an optimal number of trees\n",
    "    \"max_depth\" : 6,         #This should be between 3-10. 4-6 can be good starting points\n",
    "    \"subsample\" : 0.5,       #This is a commonly used used start value. Typical values range between 0.5-0.9\n",
    "    \"min_child_weight\" : 1,  #A smaller value is chosen because it is a highly imbalanced class problem and \n",
    "                             #leaf nodes can have smaller size groups\n",
    "    \"selected_features\" : [Mean, SD, Variance, Range, target_variable]\n",
    "    }"
   ]
  },
  {
   "cell_type": "markdown",
   "id": "e3a058ec",
   "metadata": {},
   "source": [
    "# 3. Prepare data"
   ]
  },
  {
   "cell_type": "markdown",
   "id": "9fd09565",
   "metadata": {},
   "source": [
    "First, we load the data and split it into train and test. It is important that the shuffle argument is False, because we need to maintain the original order of the data points in the data."
   ]
  },
  {
   "cell_type": "code",
   "execution_count": 3,
   "id": "a426a08c",
   "metadata": {},
   "outputs": [
    {
     "data": {
      "text/html": [
       "<div>\n",
       "<style scoped>\n",
       "    .dataframe tbody tr th:only-of-type {\n",
       "        vertical-align: middle;\n",
       "    }\n",
       "\n",
       "    .dataframe tbody tr th {\n",
       "        vertical-align: top;\n",
       "    }\n",
       "\n",
       "    .dataframe thead th {\n",
       "        text-align: right;\n",
       "    }\n",
       "</style>\n",
       "<table border=\"1\" class=\"dataframe\">\n",
       "  <thead>\n",
       "    <tr style=\"text-align: right;\">\n",
       "      <th></th>\n",
       "      <th>Mean</th>\n",
       "      <th>SD</th>\n",
       "      <th>Variance</th>\n",
       "      <th>Range</th>\n",
       "      <th>Class</th>\n",
       "    </tr>\n",
       "    <tr>\n",
       "      <th>DATETIME</th>\n",
       "      <th></th>\n",
       "      <th></th>\n",
       "      <th></th>\n",
       "      <th></th>\n",
       "      <th></th>\n",
       "    </tr>\n",
       "  </thead>\n",
       "  <tbody>\n",
       "    <tr>\n",
       "      <th>2021-01-07 00:11:00</th>\n",
       "      <td>152.190</td>\n",
       "      <td>13.291947</td>\n",
       "      <td>141.340680</td>\n",
       "      <td>28.45</td>\n",
       "      <td>0</td>\n",
       "    </tr>\n",
       "    <tr>\n",
       "      <th>2021-01-07 00:12:00</th>\n",
       "      <td>152.256</td>\n",
       "      <td>13.369126</td>\n",
       "      <td>142.986824</td>\n",
       "      <td>28.34</td>\n",
       "      <td>0</td>\n",
       "    </tr>\n",
       "    <tr>\n",
       "      <th>2021-01-07 00:13:00</th>\n",
       "      <td>152.146</td>\n",
       "      <td>13.411698</td>\n",
       "      <td>143.898904</td>\n",
       "      <td>28.22</td>\n",
       "      <td>0</td>\n",
       "    </tr>\n",
       "    <tr>\n",
       "      <th>2021-01-07 00:14:00</th>\n",
       "      <td>152.122</td>\n",
       "      <td>13.394236</td>\n",
       "      <td>143.524456</td>\n",
       "      <td>28.34</td>\n",
       "      <td>0</td>\n",
       "    </tr>\n",
       "    <tr>\n",
       "      <th>2021-01-07 00:15:00</th>\n",
       "      <td>152.052</td>\n",
       "      <td>13.390699</td>\n",
       "      <td>143.448656</td>\n",
       "      <td>28.34</td>\n",
       "      <td>0</td>\n",
       "    </tr>\n",
       "    <tr>\n",
       "      <th>...</th>\n",
       "      <td>...</td>\n",
       "      <td>...</td>\n",
       "      <td>...</td>\n",
       "      <td>...</td>\n",
       "      <td>...</td>\n",
       "    </tr>\n",
       "    <tr>\n",
       "      <th>2022-04-06 17:42:00</th>\n",
       "      <td>215.218</td>\n",
       "      <td>13.048447</td>\n",
       "      <td>136.209576</td>\n",
       "      <td>26.31</td>\n",
       "      <td>0</td>\n",
       "    </tr>\n",
       "    <tr>\n",
       "      <th>2022-04-06 17:43:00</th>\n",
       "      <td>215.174</td>\n",
       "      <td>13.016059</td>\n",
       "      <td>135.534224</td>\n",
       "      <td>26.19</td>\n",
       "      <td>0</td>\n",
       "    </tr>\n",
       "    <tr>\n",
       "      <th>2022-04-06 17:44:00</th>\n",
       "      <td>215.196</td>\n",
       "      <td>12.987018</td>\n",
       "      <td>134.930104</td>\n",
       "      <td>26.08</td>\n",
       "      <td>0</td>\n",
       "    </tr>\n",
       "    <tr>\n",
       "      <th>2022-04-06 17:45:00</th>\n",
       "      <td>215.264</td>\n",
       "      <td>13.064981</td>\n",
       "      <td>136.554984</td>\n",
       "      <td>25.98</td>\n",
       "      <td>0</td>\n",
       "    </tr>\n",
       "    <tr>\n",
       "      <th>2022-04-06 17:46:00</th>\n",
       "      <td>215.130</td>\n",
       "      <td>12.983257</td>\n",
       "      <td>134.851960</td>\n",
       "      <td>25.97</td>\n",
       "      <td>0</td>\n",
       "    </tr>\n",
       "  </tbody>\n",
       "</table>\n",
       "<p>484736 rows × 5 columns</p>\n",
       "</div>"
      ],
      "text/plain": [
       "                        Mean         SD    Variance  Range  Class\n",
       "DATETIME                                                         \n",
       "2021-01-07 00:11:00  152.190  13.291947  141.340680  28.45      0\n",
       "2021-01-07 00:12:00  152.256  13.369126  142.986824  28.34      0\n",
       "2021-01-07 00:13:00  152.146  13.411698  143.898904  28.22      0\n",
       "2021-01-07 00:14:00  152.122  13.394236  143.524456  28.34      0\n",
       "2021-01-07 00:15:00  152.052  13.390699  143.448656  28.34      0\n",
       "...                      ...        ...         ...    ...    ...\n",
       "2022-04-06 17:42:00  215.218  13.048447  136.209576  26.31      0\n",
       "2022-04-06 17:43:00  215.174  13.016059  135.534224  26.19      0\n",
       "2022-04-06 17:44:00  215.196  12.987018  134.930104  26.08      0\n",
       "2022-04-06 17:45:00  215.264  13.064981  136.554984  25.98      0\n",
       "2022-04-06 17:46:00  215.130  12.983257  134.851960  25.97      0\n",
       "\n",
       "[484736 rows x 5 columns]"
      ]
     },
     "execution_count": 3,
     "metadata": {},
     "output_type": "execute_result"
    }
   ],
   "source": [
    "spotclasses = utils_stats.load_data()\n",
    "spotclasses"
   ]
  },
  {
   "cell_type": "markdown",
   "id": "7bbc1aa7",
   "metadata": {},
   "source": [
    "## 3.1 Train Test Split"
   ]
  },
  {
   "cell_type": "code",
   "execution_count": 4,
   "id": "a0439b30",
   "metadata": {},
   "outputs": [
    {
     "data": {
      "text/html": [
       "<div>\n",
       "<style scoped>\n",
       "    .dataframe tbody tr th:only-of-type {\n",
       "        vertical-align: middle;\n",
       "    }\n",
       "\n",
       "    .dataframe tbody tr th {\n",
       "        vertical-align: top;\n",
       "    }\n",
       "\n",
       "    .dataframe thead th {\n",
       "        text-align: right;\n",
       "    }\n",
       "</style>\n",
       "<table border=\"1\" class=\"dataframe\">\n",
       "  <thead>\n",
       "    <tr style=\"text-align: right;\">\n",
       "      <th></th>\n",
       "      <th>Mean</th>\n",
       "      <th>SD</th>\n",
       "      <th>Variance</th>\n",
       "      <th>Range</th>\n",
       "      <th>Class</th>\n",
       "    </tr>\n",
       "    <tr>\n",
       "      <th>DATETIME</th>\n",
       "      <th></th>\n",
       "      <th></th>\n",
       "      <th></th>\n",
       "      <th></th>\n",
       "      <th></th>\n",
       "    </tr>\n",
       "  </thead>\n",
       "  <tbody>\n",
       "    <tr>\n",
       "      <th>2021-01-07 00:11:00</th>\n",
       "      <td>152.190</td>\n",
       "      <td>13.291947</td>\n",
       "      <td>141.340680</td>\n",
       "      <td>28.45</td>\n",
       "      <td>0</td>\n",
       "    </tr>\n",
       "    <tr>\n",
       "      <th>2021-01-07 00:12:00</th>\n",
       "      <td>152.256</td>\n",
       "      <td>13.369126</td>\n",
       "      <td>142.986824</td>\n",
       "      <td>28.34</td>\n",
       "      <td>0</td>\n",
       "    </tr>\n",
       "    <tr>\n",
       "      <th>2021-01-07 00:13:00</th>\n",
       "      <td>152.146</td>\n",
       "      <td>13.411698</td>\n",
       "      <td>143.898904</td>\n",
       "      <td>28.22</td>\n",
       "      <td>0</td>\n",
       "    </tr>\n",
       "    <tr>\n",
       "      <th>2021-01-07 00:14:00</th>\n",
       "      <td>152.122</td>\n",
       "      <td>13.394236</td>\n",
       "      <td>143.524456</td>\n",
       "      <td>28.34</td>\n",
       "      <td>0</td>\n",
       "    </tr>\n",
       "    <tr>\n",
       "      <th>2021-01-07 00:15:00</th>\n",
       "      <td>152.052</td>\n",
       "      <td>13.390699</td>\n",
       "      <td>143.448656</td>\n",
       "      <td>28.34</td>\n",
       "      <td>0</td>\n",
       "    </tr>\n",
       "    <tr>\n",
       "      <th>...</th>\n",
       "      <td>...</td>\n",
       "      <td>...</td>\n",
       "      <td>...</td>\n",
       "      <td>...</td>\n",
       "      <td>...</td>\n",
       "    </tr>\n",
       "    <tr>\n",
       "      <th>2021-12-31 23:55:00</th>\n",
       "      <td>464.606</td>\n",
       "      <td>11.661620</td>\n",
       "      <td>108.794704</td>\n",
       "      <td>27.90</td>\n",
       "      <td>0</td>\n",
       "    </tr>\n",
       "    <tr>\n",
       "      <th>2021-12-31 23:56:00</th>\n",
       "      <td>464.672</td>\n",
       "      <td>11.753500</td>\n",
       "      <td>110.515816</td>\n",
       "      <td>28.35</td>\n",
       "      <td>0</td>\n",
       "    </tr>\n",
       "    <tr>\n",
       "      <th>2021-12-31 23:57:00</th>\n",
       "      <td>464.534</td>\n",
       "      <td>11.604968</td>\n",
       "      <td>107.740224</td>\n",
       "      <td>27.79</td>\n",
       "      <td>0</td>\n",
       "    </tr>\n",
       "    <tr>\n",
       "      <th>2021-12-31 23:58:00</th>\n",
       "      <td>464.580</td>\n",
       "      <td>11.729439</td>\n",
       "      <td>110.063800</td>\n",
       "      <td>28.24</td>\n",
       "      <td>0</td>\n",
       "    </tr>\n",
       "    <tr>\n",
       "      <th>2021-12-31 23:59:00</th>\n",
       "      <td>464.602</td>\n",
       "      <td>11.764237</td>\n",
       "      <td>110.717816</td>\n",
       "      <td>28.46</td>\n",
       "      <td>0</td>\n",
       "    </tr>\n",
       "  </tbody>\n",
       "</table>\n",
       "<p>264767 rows × 5 columns</p>\n",
       "</div>"
      ],
      "text/plain": [
       "                        Mean         SD    Variance  Range  Class\n",
       "DATETIME                                                         \n",
       "2021-01-07 00:11:00  152.190  13.291947  141.340680  28.45      0\n",
       "2021-01-07 00:12:00  152.256  13.369126  142.986824  28.34      0\n",
       "2021-01-07 00:13:00  152.146  13.411698  143.898904  28.22      0\n",
       "2021-01-07 00:14:00  152.122  13.394236  143.524456  28.34      0\n",
       "2021-01-07 00:15:00  152.052  13.390699  143.448656  28.34      0\n",
       "...                      ...        ...         ...    ...    ...\n",
       "2021-12-31 23:55:00  464.606  11.661620  108.794704  27.90      0\n",
       "2021-12-31 23:56:00  464.672  11.753500  110.515816  28.35      0\n",
       "2021-12-31 23:57:00  464.534  11.604968  107.740224  27.79      0\n",
       "2021-12-31 23:58:00  464.580  11.729439  110.063800  28.24      0\n",
       "2021-12-31 23:59:00  464.602  11.764237  110.717816  28.46      0\n",
       "\n",
       "[264767 rows x 5 columns]"
      ]
     },
     "execution_count": 4,
     "metadata": {},
     "output_type": "execute_result"
    }
   ],
   "source": [
    "training_data = spotclasses[spotclasses.index < first_day_test]\n",
    "training_data"
   ]
  },
  {
   "cell_type": "code",
   "execution_count": 5,
   "id": "7f62326d",
   "metadata": {},
   "outputs": [
    {
     "data": {
      "text/html": [
       "<div>\n",
       "<style scoped>\n",
       "    .dataframe tbody tr th:only-of-type {\n",
       "        vertical-align: middle;\n",
       "    }\n",
       "\n",
       "    .dataframe tbody tr th {\n",
       "        vertical-align: top;\n",
       "    }\n",
       "\n",
       "    .dataframe thead th {\n",
       "        text-align: right;\n",
       "    }\n",
       "</style>\n",
       "<table border=\"1\" class=\"dataframe\">\n",
       "  <thead>\n",
       "    <tr style=\"text-align: right;\">\n",
       "      <th></th>\n",
       "      <th>Mean</th>\n",
       "      <th>SD</th>\n",
       "      <th>Variance</th>\n",
       "      <th>Range</th>\n",
       "      <th>Class</th>\n",
       "    </tr>\n",
       "    <tr>\n",
       "      <th>DATETIME</th>\n",
       "      <th></th>\n",
       "      <th></th>\n",
       "      <th></th>\n",
       "      <th></th>\n",
       "      <th></th>\n",
       "    </tr>\n",
       "  </thead>\n",
       "  <tbody>\n",
       "    <tr>\n",
       "      <th>2022-01-01 00:00:00</th>\n",
       "      <td>464.514</td>\n",
       "      <td>11.614193</td>\n",
       "      <td>107.911584</td>\n",
       "      <td>28.02</td>\n",
       "      <td>0</td>\n",
       "    </tr>\n",
       "    <tr>\n",
       "      <th>2022-01-01 00:01:00</th>\n",
       "      <td>464.492</td>\n",
       "      <td>11.576181</td>\n",
       "      <td>107.206376</td>\n",
       "      <td>27.79</td>\n",
       "      <td>0</td>\n",
       "    </tr>\n",
       "    <tr>\n",
       "      <th>2022-01-01 00:02:00</th>\n",
       "      <td>464.536</td>\n",
       "      <td>11.570222</td>\n",
       "      <td>107.096024</td>\n",
       "      <td>28.01</td>\n",
       "      <td>0</td>\n",
       "    </tr>\n",
       "    <tr>\n",
       "      <th>2022-01-01 00:03:00</th>\n",
       "      <td>464.516</td>\n",
       "      <td>11.700582</td>\n",
       "      <td>109.522904</td>\n",
       "      <td>28.35</td>\n",
       "      <td>0</td>\n",
       "    </tr>\n",
       "    <tr>\n",
       "      <th>2022-01-01 00:04:00</th>\n",
       "      <td>464.514</td>\n",
       "      <td>11.580081</td>\n",
       "      <td>107.278624</td>\n",
       "      <td>27.90</td>\n",
       "      <td>0</td>\n",
       "    </tr>\n",
       "    <tr>\n",
       "      <th>...</th>\n",
       "      <td>...</td>\n",
       "      <td>...</td>\n",
       "      <td>...</td>\n",
       "      <td>...</td>\n",
       "      <td>...</td>\n",
       "    </tr>\n",
       "    <tr>\n",
       "      <th>2022-04-06 17:42:00</th>\n",
       "      <td>215.218</td>\n",
       "      <td>13.048447</td>\n",
       "      <td>136.209576</td>\n",
       "      <td>26.31</td>\n",
       "      <td>0</td>\n",
       "    </tr>\n",
       "    <tr>\n",
       "      <th>2022-04-06 17:43:00</th>\n",
       "      <td>215.174</td>\n",
       "      <td>13.016059</td>\n",
       "      <td>135.534224</td>\n",
       "      <td>26.19</td>\n",
       "      <td>0</td>\n",
       "    </tr>\n",
       "    <tr>\n",
       "      <th>2022-04-06 17:44:00</th>\n",
       "      <td>215.196</td>\n",
       "      <td>12.987018</td>\n",
       "      <td>134.930104</td>\n",
       "      <td>26.08</td>\n",
       "      <td>0</td>\n",
       "    </tr>\n",
       "    <tr>\n",
       "      <th>2022-04-06 17:45:00</th>\n",
       "      <td>215.264</td>\n",
       "      <td>13.064981</td>\n",
       "      <td>136.554984</td>\n",
       "      <td>25.98</td>\n",
       "      <td>0</td>\n",
       "    </tr>\n",
       "    <tr>\n",
       "      <th>2022-04-06 17:46:00</th>\n",
       "      <td>215.130</td>\n",
       "      <td>12.983257</td>\n",
       "      <td>134.851960</td>\n",
       "      <td>25.97</td>\n",
       "      <td>0</td>\n",
       "    </tr>\n",
       "  </tbody>\n",
       "</table>\n",
       "<p>174956 rows × 5 columns</p>\n",
       "</div>"
      ],
      "text/plain": [
       "                        Mean         SD    Variance  Range  Class\n",
       "DATETIME                                                         \n",
       "2022-01-01 00:00:00  464.514  11.614193  107.911584  28.02      0\n",
       "2022-01-01 00:01:00  464.492  11.576181  107.206376  27.79      0\n",
       "2022-01-01 00:02:00  464.536  11.570222  107.096024  28.01      0\n",
       "2022-01-01 00:03:00  464.516  11.700582  109.522904  28.35      0\n",
       "2022-01-01 00:04:00  464.514  11.580081  107.278624  27.90      0\n",
       "...                      ...        ...         ...    ...    ...\n",
       "2022-04-06 17:42:00  215.218  13.048447  136.209576  26.31      0\n",
       "2022-04-06 17:43:00  215.174  13.016059  135.534224  26.19      0\n",
       "2022-04-06 17:44:00  215.196  12.987018  134.930104  26.08      0\n",
       "2022-04-06 17:45:00  215.264  13.064981  136.554984  25.98      0\n",
       "2022-04-06 17:46:00  215.130  12.983257  134.851960  25.97      0\n",
       "\n",
       "[174956 rows x 5 columns]"
      ]
     },
     "execution_count": 5,
     "metadata": {},
     "output_type": "execute_result"
    }
   ],
   "source": [
    "test_data = spotclasses[spotclasses.index >= first_day_test]\n",
    "test_data = test_data[test_data.index <= last_day_test]\n",
    "test_data"
   ]
  },
  {
   "cell_type": "markdown",
   "id": "44427a80",
   "metadata": {},
   "source": [
    "## 3.2 Slice data for windowing and create test data for xgboost"
   ]
  },
  {
   "cell_type": "code",
   "execution_count": 6,
   "id": "880425e9",
   "metadata": {},
   "outputs": [
    {
     "name": "stdout",
     "output_type": "stream",
     "text": [
      "Preparing data..\n",
      "Finished preparing data!\n",
      "Preparing data..\n",
      "Finished preparing data!\n"
     ]
    }
   ],
   "source": [
    "# Create indices. Must be passed to function that creates (X,Y) pairs so that\n",
    "# it knows where to slice the data\n",
    "training_indices = utils_stats.get_indices_entire_sequence(\n",
    "    data=training_data, \n",
    "    window_size=hyperparameters[\"in_length\"]+target_sequence_length, \n",
    "    step_size=hyperparameters[\"step_size\"]\n",
    "    )\n",
    "\n",
    "# Obtain (X,Y) pairs of training data\n",
    "x_train, y_train = utils_stats.get_xgboost_x_y(\n",
    "    indices=training_indices, \n",
    "    data=training_data[hyperparameters[\"selected_features\"]].to_numpy(),\n",
    "    target_sequence_length=target_sequence_length,\n",
    "    input_seq_len=hyperparameters[\"in_length\"]\n",
    "    )\n",
    "\n",
    "test_indices = utils_stats.get_indices_entire_sequence(\n",
    "    data=test_data, \n",
    "    window_size=hyperparameters[\"in_length\"]+target_sequence_length, \n",
    "    step_size=1\n",
    "    )\n",
    "\n",
    "# Obtain (X,Y) pairs of test data\n",
    "x_test, y_test = utils_stats.get_xgboost_x_y(\n",
    "    indices=test_indices, \n",
    "    data=test_data[hyperparameters[\"selected_features\"]].to_numpy(),\n",
    "    target_sequence_length=target_sequence_length,\n",
    "    input_seq_len=hyperparameters[\"in_length\"]\n",
    "    )"
   ]
  },
  {
   "cell_type": "code",
   "execution_count": 7,
   "id": "16a79a0f",
   "metadata": {},
   "outputs": [
    {
     "data": {
      "text/plain": [
       "array([[152.19      ,  13.29194681, 141.34068   , ..., 143.448656  ,\n",
       "         28.34      ,   0.        ],\n",
       "       [152.256     ,  13.369126  , 142.986824  , ..., 140.826064  ,\n",
       "         28.23      ,   0.        ],\n",
       "       [152.146     ,  13.41169751, 143.898904  , ..., 138.314656  ,\n",
       "         28.        ,   0.        ],\n",
       "       ...,\n",
       "       [464.65      ,  11.768751  , 110.8028    , ..., 108.794704  ,\n",
       "         27.9       ,   0.        ],\n",
       "       [464.652     ,  11.67593979, 109.062056  , ..., 110.515816  ,\n",
       "         28.35      ,   0.        ],\n",
       "       [464.63      ,  11.71442273, 109.78216   , ..., 107.740224  ,\n",
       "         27.79      ,   0.        ]])"
      ]
     },
     "execution_count": 7,
     "metadata": {},
     "output_type": "execute_result"
    }
   ],
   "source": [
    "x_train"
   ]
  },
  {
   "cell_type": "code",
   "execution_count": 8,
   "id": "a6fa9380",
   "metadata": {},
   "outputs": [
    {
     "data": {
      "text/plain": [
       "array([[152.214     ,  13.26772701, 140.826064  ,  28.23      ,\n",
       "          0.        ],\n",
       "       [152.032     ,  13.14889045, 138.314656  ,  28.        ,\n",
       "          0.        ],\n",
       "       [151.918     ,  13.12935718, 137.904016  ,  27.89      ,\n",
       "          0.        ],\n",
       "       ...,\n",
       "       [464.672     ,  11.75350033, 110.515816  ,  28.35      ,\n",
       "          0.        ],\n",
       "       [464.534     ,  11.6049679 , 107.740224  ,  27.79      ,\n",
       "          0.        ],\n",
       "       [464.58      ,  11.72943946, 110.0638    ,  28.24      ,\n",
       "          0.        ]])"
      ]
     },
     "execution_count": 8,
     "metadata": {},
     "output_type": "execute_result"
    }
   ],
   "source": [
    "y_train"
   ]
  },
  {
   "cell_type": "code",
   "execution_count": 9,
   "id": "ef4def30",
   "metadata": {},
   "outputs": [
    {
     "data": {
      "text/plain": [
       "array([[464.514     ,  11.61419304, 107.911584  , ..., 107.278624  ,\n",
       "         27.9       ,   0.        ],\n",
       "       [464.492     ,  11.57618115, 107.206376  , ..., 108.566784  ,\n",
       "         28.24      ,   0.        ],\n",
       "       [464.536     ,  11.57022169, 107.096024  , ..., 105.448216  ,\n",
       "         27.79      ,   0.        ],\n",
       "       ...,\n",
       "       [215.424     ,  13.21282824, 139.663064  , ..., 136.209576  ,\n",
       "         26.31      ,   0.        ],\n",
       "       [215.266     ,  13.08536129, 136.981344  , ..., 135.534224  ,\n",
       "         26.19      ,   0.        ],\n",
       "       [215.24      ,  13.07486138, 136.7616    , ..., 134.930104  ,\n",
       "         26.08      ,   0.        ]])"
      ]
     },
     "execution_count": 9,
     "metadata": {},
     "output_type": "execute_result"
    }
   ],
   "source": [
    "x_test"
   ]
  },
  {
   "cell_type": "code",
   "execution_count": 10,
   "id": "fe317a4d",
   "metadata": {},
   "outputs": [
    {
     "data": {
      "text/plain": [
       "array([[464.604     ,  11.64939827, 108.566784  ,  28.24      ,\n",
       "          0.        ],\n",
       "       [464.538     ,  11.48086539, 105.448216  ,  27.79      ,\n",
       "          0.        ],\n",
       "       [464.562     ,  11.59917756, 107.632736  ,  28.24      ,\n",
       "          0.        ],\n",
       "       ...,\n",
       "       [215.174     ,  13.01605854, 135.534224  ,  26.19      ,\n",
       "          0.        ],\n",
       "       [215.196     ,  12.98701775, 134.930104  ,  26.08      ,\n",
       "          0.        ],\n",
       "       [215.264     ,  13.06498106, 136.554984  ,  25.98      ,\n",
       "          0.        ]])"
      ]
     },
     "execution_count": 10,
     "metadata": {},
     "output_type": "execute_result"
    }
   ],
   "source": [
    "y_test"
   ]
  },
  {
   "cell_type": "code",
   "execution_count": 11,
   "id": "c2995fb7",
   "metadata": {},
   "outputs": [
    {
     "name": "stdout",
     "output_type": "stream",
     "text": [
      "Shape of x_train: (264761, 25)\n",
      "Shape of y_train: (264761, 5)\n",
      "Shape of x_test: (174950, 25)\n",
      "Shape of y_test: (174950, 5)\n"
     ]
    }
   ],
   "source": [
    "print(\"Shape of x_train: {}\".format(x_train.shape))\n",
    "print(\"Shape of y_train: {}\".format(y_train.shape))\n",
    "print(\"Shape of x_test: {}\".format(x_test.shape))\n",
    "print(\"Shape of y_test: {}\".format(y_test.shape))"
   ]
  },
  {
   "cell_type": "code",
   "execution_count": 12,
   "id": "b1c73807",
   "metadata": {},
   "outputs": [
    {
     "data": {
      "text/plain": [
       "array([[152.214     ,  13.26772701, 140.826064  ,  28.23      ],\n",
       "       [152.032     ,  13.14889045, 138.314656  ,  28.        ],\n",
       "       [151.918     ,  13.12935718, 137.904016  ,  27.89      ],\n",
       "       ...,\n",
       "       [464.672     ,  11.75350033, 110.515816  ,  28.35      ],\n",
       "       [464.534     ,  11.6049679 , 107.740224  ,  27.79      ],\n",
       "       [464.58      ,  11.72943946, 110.0638    ,  28.24      ]])"
      ]
     },
     "execution_count": 12,
     "metadata": {},
     "output_type": "execute_result"
    }
   ],
   "source": [
    "x_train = y_train[:, 0:4] \n",
    "x_train"
   ]
  },
  {
   "cell_type": "code",
   "execution_count": 13,
   "id": "beae5047",
   "metadata": {},
   "outputs": [
    {
     "data": {
      "text/plain": [
       "array([0., 0., 0., ..., 0., 0., 0.])"
      ]
     },
     "execution_count": 13,
     "metadata": {},
     "output_type": "execute_result"
    }
   ],
   "source": [
    "y_train = y_train[:, 4]\n",
    "y_train"
   ]
  },
  {
   "cell_type": "code",
   "execution_count": 14,
   "id": "3a05d2bc",
   "metadata": {},
   "outputs": [
    {
     "data": {
      "text/plain": [
       "array([[464.604     ,  11.64939827, 108.566784  ,  28.24      ],\n",
       "       [464.538     ,  11.48086539, 105.448216  ,  27.79      ],\n",
       "       [464.562     ,  11.59917756, 107.632736  ,  28.24      ],\n",
       "       ...,\n",
       "       [215.174     ,  13.01605854, 135.534224  ,  26.19      ],\n",
       "       [215.196     ,  12.98701775, 134.930104  ,  26.08      ],\n",
       "       [215.264     ,  13.06498106, 136.554984  ,  25.98      ]])"
      ]
     },
     "execution_count": 14,
     "metadata": {},
     "output_type": "execute_result"
    }
   ],
   "source": [
    "x_test = y_test[:, 0:4] \n",
    "x_test"
   ]
  },
  {
   "cell_type": "code",
   "execution_count": 15,
   "id": "641f8511",
   "metadata": {},
   "outputs": [
    {
     "data": {
      "text/plain": [
       "array([0., 0., 0., ..., 0., 0., 0.])"
      ]
     },
     "execution_count": 15,
     "metadata": {},
     "output_type": "execute_result"
    }
   ],
   "source": [
    "y_test = y_test[:, 4] \n",
    "y_test"
   ]
  },
  {
   "cell_type": "markdown",
   "id": "8499d5c5",
   "metadata": {},
   "source": [
    "# 4. Classifier"
   ]
  },
  {
   "cell_type": "markdown",
   "id": "e56d9223",
   "metadata": {},
   "source": [
    "## 4.1 Train model"
   ]
  },
  {
   "cell_type": "code",
   "execution_count": 16,
   "id": "f0273c30",
   "metadata": {},
   "outputs": [
    {
     "data": {
      "text/plain": [
       "array([0, 0, 0, ..., 0, 0, 0], dtype=int64)"
      ]
     },
     "execution_count": 16,
     "metadata": {},
     "output_type": "execute_result"
    }
   ],
   "source": [
    "from sklearn.preprocessing import LabelEncoder\n",
    "le = LabelEncoder()\n",
    "y_train = le.fit_transform(y_train)\n",
    "y_train"
   ]
  },
  {
   "cell_type": "code",
   "execution_count": 17,
   "id": "196a7fd5",
   "metadata": {},
   "outputs": [],
   "source": [
    "# Initialize model\n",
    "model = xgb.XGBClassifier(\n",
    "    n_estimators=hyperparameters[\"n_estimators\"],\n",
    "    max_depth=hyperparameters[\"max_depth\"],\n",
    "    subsample=hyperparameters[\"subsample\"],\n",
    "    min_child_weight=hyperparameters[\"min_child_weight\"],\n",
    "    objective=\"reg:squarederror\",\n",
    "    tree_method=\"hist\"\n",
    "    )\n",
    "\n",
    "y_train\n",
    "\n",
    "trained_model = model.fit(x_train, y_train)\n",
    "\n",
    "train_forecasts = trained_model.predict(x_train)"
   ]
  },
  {
   "cell_type": "code",
   "execution_count": 18,
   "id": "5f5cad3e",
   "metadata": {},
   "outputs": [
    {
     "data": {
      "text/plain": [
       "array([[234035,    176],\n",
       "       [   116,  30434]], dtype=int64)"
      ]
     },
     "execution_count": 18,
     "metadata": {},
     "output_type": "execute_result"
    }
   ],
   "source": [
    "from sklearn.metrics import classification_report, confusion_matrix\n",
    "\n",
    "train_cm = confusion_matrix(y_train, train_forecasts)\n",
    "train_cm"
   ]
  },
  {
   "cell_type": "code",
   "execution_count": 31,
   "id": "0a5d50a4",
   "metadata": {},
   "outputs": [
    {
     "data": {
      "image/png": "[encoded data removed]",
      "text/plain": [
       "<Figure size 640x480 with 2 Axes>"
      ]
     },
     "metadata": {},
     "output_type": "display_data"
    }
   ],
   "source": [
    "import seaborn as sns\n",
    "\n",
    "ax = sns.heatmap(train_cm, annot=True, fmt='g', cmap=\"Blues\")\n",
    "\n",
    "ax.set_title('Seaborn Confusion Matrix with labels!!')\n",
    "ax.set_xlabel('Predicted label')\n",
    "ax.set_ylabel('True label')\n",
    "ax.xaxis.set_ticklabels(['0', '1'])\n",
    "ax.yaxis.set_ticklabels(['0', '1'])\n",
    "\n",
    "plt.show()"
   ]
  },
  {
   "cell_type": "code",
   "execution_count": 19,
   "id": "620b00b8",
   "metadata": {},
   "outputs": [
    {
     "name": "stdout",
     "output_type": "stream",
     "text": [
      "Accuracy score: 0.9988971185333188\n"
     ]
    }
   ],
   "source": [
    "from sklearn.metrics import accuracy_score\n",
    "\n",
    "acc_train = accuracy_score(y_train, train_forecasts)\n",
    "print(\"Accuracy score: {}\".format(acc_train))"
   ]
  },
  {
   "cell_type": "markdown",
   "id": "6d6a1301",
   "metadata": {},
   "source": [
    "## 4.2 Test model"
   ]
  },
  {
   "cell_type": "code",
   "execution_count": 20,
   "id": "a6d18ff2",
   "metadata": {},
   "outputs": [
    {
     "name": "stdout",
     "output_type": "stream",
     "text": [
      "Mean Absolute Error: 0.0008573878250928837\n"
     ]
    }
   ],
   "source": [
    "test_forecasts = trained_model.predict(x_test)\n",
    "test_mae = mean_absolute_error(y_test, test_forecasts)\n",
    "# print(test_mae)\n",
    "print(\"Mean Absolute Error: {}\".format(test_mae))\n",
    "# print(\"Mean test data value: {}\".format(np.mean(y_test)))"
   ]
  },
  {
   "cell_type": "code",
   "execution_count": 21,
   "id": "6bd84b16",
   "metadata": {
    "scrolled": true
   },
   "outputs": [
    {
     "data": {
      "text/plain": [
       "array([[169492,     56],\n",
       "       [    94,   5308]], dtype=int64)"
      ]
     },
     "execution_count": 21,
     "metadata": {},
     "output_type": "execute_result"
    }
   ],
   "source": [
    "from sklearn.metrics import classification_report, confusion_matrix\n",
    "\n",
    "test_cm = confusion_matrix(y_test, test_forecasts)\n",
    "test_cm"
   ]
  },
  {
   "cell_type": "code",
   "execution_count": 30,
   "id": "c4ea5246",
   "metadata": {},
   "outputs": [
    {
     "data": {
      "image/png": "[encoded data removed]",
      "text/plain": [
       "<Figure size 640x480 with 2 Axes>"
      ]
     },
     "metadata": {},
     "output_type": "display_data"
    }
   ],
   "source": [
    "import seaborn as sns\n",
    "\n",
    "ax = sns.heatmap(test_cm, annot=True, fmt='g', cmap=\"Blues\")\n",
    "\n",
    "ax.set_title('Seaborn Confusion Matrix with labels!!')\n",
    "ax.set_xlabel('Predicted label')\n",
    "ax.set_ylabel('True label')\n",
    "ax.xaxis.set_ticklabels(['0', '1'])\n",
    "ax.yaxis.set_ticklabels(['0', '1'])\n",
    "\n",
    "plt.show()"
   ]
  },
  {
   "cell_type": "code",
   "execution_count": 22,
   "id": "f69b5db5",
   "metadata": {},
   "outputs": [
    {
     "name": "stdout",
     "output_type": "stream",
     "text": [
      "Accuracy score: 0.9991426121749071\n"
     ]
    }
   ],
   "source": [
    "from sklearn.metrics import accuracy_score\n",
    "\n",
    "acc = accuracy_score(y_test, test_forecasts)\n",
    "print(\"Accuracy score: {}\".format(acc))"
   ]
  },
  {
   "cell_type": "markdown",
   "id": "f2c01c32",
   "metadata": {},
   "source": [
    "# 5. Save the Model"
   ]
  },
  {
   "cell_type": "markdown",
   "id": "b2c0e528",
   "metadata": {},
   "source": [
    "## 5.1 Install Dependencies and Setup"
   ]
  },
  {
   "cell_type": "code",
   "execution_count": 53,
   "id": "8bb20533",
   "metadata": {},
   "outputs": [],
   "source": [
    "# pip install pyyaml h5py"
   ]
  },
  {
   "cell_type": "code",
   "execution_count": 54,
   "id": "430aff4c",
   "metadata": {},
   "outputs": [],
   "source": [
    "# import os\n",
    "\n",
    "# import tensorflow as tf\n",
    "# from tensorflow import keras\n",
    "\n",
    "# print(tf.version.VERSION)"
   ]
  },
  {
   "cell_type": "markdown",
   "id": "5dc641b9",
   "metadata": {},
   "source": [
    "## 5.2 Save the Model"
   ]
  },
  {
   "cell_type": "code",
   "execution_count": 41,
   "id": "669eaaf3",
   "metadata": {},
   "outputs": [],
   "source": [
    "# Save the entire model to a HDF5 file.\n",
    "\n",
    "# Save as JSON file\n",
    "trained_model.save_model('models/trained_model-HP_Drum_Level-XGBoost-Window_5+1.json')\n",
    "\n",
    "# Save as TXT file\n",
    "trained_model.save_model('models/trained_model-HP_Drum_Level-XGBoost-Window_5+1.txt')"
   ]
  },
  {
   "cell_type": "markdown",
   "id": "6c9ff007",
   "metadata": {},
   "source": [
    "## 5.3 Test 11HP_Drum_Level"
   ]
  },
  {
   "cell_type": "code",
   "execution_count": 1,
   "id": "6ff4c5fa",
   "metadata": {},
   "outputs": [],
   "source": [
    "import xgboost as xgb"
   ]
  },
  {
   "cell_type": "code",
   "execution_count": 2,
   "id": "6224b616",
   "metadata": {},
   "outputs": [],
   "source": [
    "# import h5py as h5\n",
    "\n",
    "# loaded_model = tf.keras.models.load_model('trained_model-HP_Drum_Level-XGBoost-Window_5+1.')\n",
    "\n",
    "# Blank new instance to be loaded into\n",
    "xbg_cla = xgb.Booster()\n",
    "\n",
    "xbg_cla.load_model(\"../models/trained_model-HP_Drum_Level-XGBoost-Window_5+1.json\")"
   ]
  },
  {
   "cell_type": "code",
   "execution_count": 3,
   "id": "1462ee6c",
   "metadata": {},
   "outputs": [],
   "source": [
    "import pandas as pd"
   ]
  },
  {
   "cell_type": "code",
   "execution_count": 30,
   "id": "365970f7",
   "metadata": {},
   "outputs": [
    {
     "data": {
      "text/html": [
       "<div>\n",
       "<style scoped>\n",
       "    .dataframe tbody tr th:only-of-type {\n",
       "        vertical-align: middle;\n",
       "    }\n",
       "\n",
       "    .dataframe tbody tr th {\n",
       "        vertical-align: top;\n",
       "    }\n",
       "\n",
       "    .dataframe thead th {\n",
       "        text-align: right;\n",
       "    }\n",
       "</style>\n",
       "<table border=\"1\" class=\"dataframe\">\n",
       "  <thead>\n",
       "    <tr style=\"text-align: right;\">\n",
       "      <th></th>\n",
       "      <th>Mean</th>\n",
       "      <th>SD</th>\n",
       "      <th>Variance</th>\n",
       "      <th>Range</th>\n",
       "      <th>Class</th>\n",
       "    </tr>\n",
       "    <tr>\n",
       "      <th>DATETIME</th>\n",
       "      <th></th>\n",
       "      <th></th>\n",
       "      <th></th>\n",
       "      <th></th>\n",
       "      <th></th>\n",
       "    </tr>\n",
       "  </thead>\n",
       "  <tbody>\n",
       "    <tr>\n",
       "      <th>2022-06-12 10:37:00</th>\n",
       "      <td>-152.225163</td>\n",
       "      <td>16.542885</td>\n",
       "      <td>218.933647</td>\n",
       "      <td>44.988208</td>\n",
       "      <td>0</td>\n",
       "    </tr>\n",
       "    <tr>\n",
       "      <th>2022-06-12 10:38:00</th>\n",
       "      <td>-155.087563</td>\n",
       "      <td>16.900798</td>\n",
       "      <td>228.509566</td>\n",
       "      <td>45.995025</td>\n",
       "      <td>0</td>\n",
       "    </tr>\n",
       "    <tr>\n",
       "      <th>2022-06-12 10:39:00</th>\n",
       "      <td>-160.398335</td>\n",
       "      <td>16.891930</td>\n",
       "      <td>228.269839</td>\n",
       "      <td>45.957400</td>\n",
       "      <td>0</td>\n",
       "    </tr>\n",
       "    <tr>\n",
       "      <th>2022-06-12 10:40:00</th>\n",
       "      <td>-171.106450</td>\n",
       "      <td>17.743946</td>\n",
       "      <td>251.878097</td>\n",
       "      <td>48.422667</td>\n",
       "      <td>0</td>\n",
       "    </tr>\n",
       "    <tr>\n",
       "      <th>2022-06-12 10:41:00</th>\n",
       "      <td>-181.790077</td>\n",
       "      <td>17.792495</td>\n",
       "      <td>253.258294</td>\n",
       "      <td>48.385033</td>\n",
       "      <td>0</td>\n",
       "    </tr>\n",
       "    <tr>\n",
       "      <th>...</th>\n",
       "      <td>...</td>\n",
       "      <td>...</td>\n",
       "      <td>...</td>\n",
       "      <td>...</td>\n",
       "      <td>...</td>\n",
       "    </tr>\n",
       "    <tr>\n",
       "      <th>2022-12-16 18:00:00</th>\n",
       "      <td>183.862695</td>\n",
       "      <td>14.186166</td>\n",
       "      <td>160.997853</td>\n",
       "      <td>30.581183</td>\n",
       "      <td>0</td>\n",
       "    </tr>\n",
       "    <tr>\n",
       "      <th>2022-12-16 18:01:00</th>\n",
       "      <td>183.738482</td>\n",
       "      <td>14.280318</td>\n",
       "      <td>163.141986</td>\n",
       "      <td>30.637625</td>\n",
       "      <td>0</td>\n",
       "    </tr>\n",
       "    <tr>\n",
       "      <th>2022-12-16 18:02:00</th>\n",
       "      <td>183.732830</td>\n",
       "      <td>14.247713</td>\n",
       "      <td>162.397863</td>\n",
       "      <td>30.581133</td>\n",
       "      <td>0</td>\n",
       "    </tr>\n",
       "    <tr>\n",
       "      <th>2022-12-16 18:03:00</th>\n",
       "      <td>183.747868</td>\n",
       "      <td>14.150273</td>\n",
       "      <td>160.184182</td>\n",
       "      <td>30.599933</td>\n",
       "      <td>0</td>\n",
       "    </tr>\n",
       "    <tr>\n",
       "      <th>2022-12-16 18:04:00</th>\n",
       "      <td>183.770450</td>\n",
       "      <td>14.052694</td>\n",
       "      <td>157.982575</td>\n",
       "      <td>30.590517</td>\n",
       "      <td>0</td>\n",
       "    </tr>\n",
       "  </tbody>\n",
       "</table>\n",
       "<p>14829 rows × 5 columns</p>\n",
       "</div>"
      ],
      "text/plain": [
       "                           Mean         SD    Variance      Range  Class\n",
       "DATETIME                                                                \n",
       "2022-06-12 10:37:00 -152.225163  16.542885  218.933647  44.988208      0\n",
       "2022-06-12 10:38:00 -155.087563  16.900798  228.509566  45.995025      0\n",
       "2022-06-12 10:39:00 -160.398335  16.891930  228.269839  45.957400      0\n",
       "2022-06-12 10:40:00 -171.106450  17.743946  251.878097  48.422667      0\n",
       "2022-06-12 10:41:00 -181.790077  17.792495  253.258294  48.385033      0\n",
       "...                         ...        ...         ...        ...    ...\n",
       "2022-12-16 18:00:00  183.862695  14.186166  160.997853  30.581183      0\n",
       "2022-12-16 18:01:00  183.738482  14.280318  163.141986  30.637625      0\n",
       "2022-12-16 18:02:00  183.732830  14.247713  162.397863  30.581133      0\n",
       "2022-12-16 18:03:00  183.747868  14.150273  160.184182  30.599933      0\n",
       "2022-12-16 18:04:00  183.770450  14.052694  157.982575  30.590517      0\n",
       "\n",
       "[14829 rows x 5 columns]"
      ]
     },
     "execution_count": 30,
     "metadata": {},
     "output_type": "execute_result"
    }
   ],
   "source": [
    "test_data = pd.read_csv(\"../change_datetime_csv/XGBoost-Windowing-HP-Train-11HP_Drum_Level-Test-Change_Datetime.csv\", delimiter=\",\")\n",
    "test_data.index = pd.to_datetime(test_data[\"DATETIME\"])\n",
    "test_data.drop(['DATETIME'], axis=1)"
   ]
  },
  {
   "cell_type": "code",
   "execution_count": 31,
   "id": "b43d1ae6",
   "metadata": {},
   "outputs": [
    {
     "data": {
      "text/plain": [
       "array([[-152.2251633 ,   16.54288544,  218.933647  ,   44.98820833,\n",
       "           0.        ],\n",
       "       [-155.0875633 ,   16.90079754,  228.509566  ,   45.995025  ,\n",
       "           0.        ],\n",
       "       [-160.398335  ,   16.89192999,  228.269839  ,   45.9574    ,\n",
       "           0.        ],\n",
       "       ...,\n",
       "       [ 183.73283   ,   14.2477131 ,  162.3978628 ,   30.58113333,\n",
       "           0.        ],\n",
       "       [ 183.7478683 ,   14.15027307,  160.1841825 ,   30.59993333,\n",
       "           0.        ],\n",
       "       [ 183.77045   ,   14.05269437,  157.9825752 ,   30.59051667,\n",
       "           0.        ]])"
      ]
     },
     "execution_count": 31,
     "metadata": {},
     "output_type": "execute_result"
    }
   ],
   "source": [
    "test_data = test_data[test_data.columns[1:]].to_numpy()\n",
    "test_data"
   ]
  },
  {
   "cell_type": "code",
   "execution_count": 32,
   "id": "962f35b9",
   "metadata": {},
   "outputs": [
    {
     "name": "stdout",
     "output_type": "stream",
     "text": [
      "Shape of x_test: (14829, 5)\n"
     ]
    }
   ],
   "source": [
    "print(\"Shape of x_test: {}\".format(test_data.shape))"
   ]
  },
  {
   "cell_type": "code",
   "execution_count": 33,
   "id": "0d18b217",
   "metadata": {},
   "outputs": [
    {
     "data": {
      "text/plain": [
       "array([[-152.2251633 ,   16.54288544,  218.933647  ,   44.98820833],\n",
       "       [-155.0875633 ,   16.90079754,  228.509566  ,   45.995025  ],\n",
       "       [-160.398335  ,   16.89192999,  228.269839  ,   45.9574    ],\n",
       "       ...,\n",
       "       [ 183.73283   ,   14.2477131 ,  162.3978628 ,   30.58113333],\n",
       "       [ 183.7478683 ,   14.15027307,  160.1841825 ,   30.59993333],\n",
       "       [ 183.77045   ,   14.05269437,  157.9825752 ,   30.59051667]])"
      ]
     },
     "execution_count": 33,
     "metadata": {},
     "output_type": "execute_result"
    }
   ],
   "source": [
    "x_test = test_data[:, 0:4] \n",
    "x_test"
   ]
  },
  {
   "cell_type": "code",
   "execution_count": 34,
   "id": "de76576c",
   "metadata": {},
   "outputs": [
    {
     "data": {
      "text/plain": [
       "array([0., 0., 0., ..., 0., 0., 0.])"
      ]
     },
     "execution_count": 34,
     "metadata": {},
     "output_type": "execute_result"
    }
   ],
   "source": [
    "y_test = test_data[:, 4] \n",
    "y_test"
   ]
  },
  {
   "cell_type": "markdown",
   "id": "a35bff02",
   "metadata": {},
   "source": [
    "### 5.3.1 Test model"
   ]
  },
  {
   "cell_type": "code",
   "execution_count": 35,
   "id": "fc238b35",
   "metadata": {},
   "outputs": [],
   "source": [
    "from sklearn.metrics import mean_absolute_error"
   ]
  },
  {
   "cell_type": "code",
   "execution_count": 36,
   "id": "46b569a5",
   "metadata": {},
   "outputs": [
    {
     "name": "stdout",
     "output_type": "stream",
     "text": [
      "Mean Absolute Error: 0.0034993643608913693\n"
     ]
    }
   ],
   "source": [
    "# test_forecasts = xbg_cla.predict(x_test)\n",
    "test_forecasts = xbg_cla.predict(xgb.DMatrix(x_test))\n",
    "test_mae = mean_absolute_error(y_test, test_forecasts)\n",
    "# print(test_mae)\n",
    "print(\"Mean Absolute Error: {}\".format(test_mae))\n",
    "# print(\"Mean test data value: {}\".format(np.mean(y_test)))"
   ]
  },
  {
   "cell_type": "code",
   "execution_count": 37,
   "id": "25fba5da",
   "metadata": {},
   "outputs": [
    {
     "data": {
      "text/plain": [
       "array([0.00039899, 0.00039899, 0.00039899, ..., 0.00039899, 0.00039899,\n",
       "       0.00039899], dtype=float32)"
      ]
     },
     "execution_count": 37,
     "metadata": {},
     "output_type": "execute_result"
    }
   ],
   "source": [
    "test_forecasts"
   ]
  },
  {
   "cell_type": "code",
   "execution_count": 38,
   "id": "fcc21e41",
   "metadata": {},
   "outputs": [
    {
     "data": {
      "text/plain": [
       "array([[14394,    21],\n",
       "       [    7,   407]], dtype=int64)"
      ]
     },
     "execution_count": 38,
     "metadata": {},
     "output_type": "execute_result"
    }
   ],
   "source": [
    "from sklearn.metrics import classification_report, confusion_matrix\n",
    "# accuracy_score(y_true, y_pred.round(), normalize=False)\n",
    "test_cm = confusion_matrix(y_test, test_forecasts.round())\n",
    "test_cm"
   ]
  },
  {
   "cell_type": "code",
   "execution_count": 39,
   "id": "5e3e3785",
   "metadata": {},
   "outputs": [
    {
     "data": {
      "image/png": "[encoded data removed]",
      "text/plain": [
       "<Figure size 640x480 with 2 Axes>"
      ]
     },
     "metadata": {},
     "output_type": "display_data"
    }
   ],
   "source": [
    "import seaborn as sns\n",
    "import matplotlib.pyplot as plt\n",
    "\n",
    "ax = sns.heatmap(test_cm, annot=True, fmt='g', cmap=\"Blues\")\n",
    "\n",
    "ax.set_title('Seaborn Confusion Matrix with labels!!')\n",
    "ax.set_xlabel('Predicted label')\n",
    "ax.set_ylabel('True label')\n",
    "ax.xaxis.set_ticklabels(['0', '1'])\n",
    "ax.yaxis.set_ticklabels(['0', '1'])\n",
    "\n",
    "plt.show()"
   ]
  },
  {
   "cell_type": "code",
   "execution_count": 40,
   "id": "b6cf8b12",
   "metadata": {},
   "outputs": [
    {
     "name": "stdout",
     "output_type": "stream",
     "text": [
      "Accuracy score: 0.9981118079438938\n"
     ]
    }
   ],
   "source": [
    "from sklearn.metrics import accuracy_score\n",
    "\n",
    "acc = accuracy_score(y_test, test_forecasts.round())\n",
    "print(\"Accuracy score: {}\".format(acc))"
   ]
  },
  {
   "cell_type": "markdown",
   "id": "6d391fb9",
   "metadata": {},
   "source": [
    "## 5.4 Test 21IP_Drum_Level"
   ]
  },
  {
   "cell_type": "code",
   "execution_count": 41,
   "id": "93362b4c",
   "metadata": {},
   "outputs": [
    {
     "data": {
      "text/html": [
       "<div>\n",
       "<style scoped>\n",
       "    .dataframe tbody tr th:only-of-type {\n",
       "        vertical-align: middle;\n",
       "    }\n",
       "\n",
       "    .dataframe tbody tr th {\n",
       "        vertical-align: top;\n",
       "    }\n",
       "\n",
       "    .dataframe thead th {\n",
       "        text-align: right;\n",
       "    }\n",
       "</style>\n",
       "<table border=\"1\" class=\"dataframe\">\n",
       "  <thead>\n",
       "    <tr style=\"text-align: right;\">\n",
       "      <th></th>\n",
       "      <th>DATETIME</th>\n",
       "      <th>Mean</th>\n",
       "      <th>SD</th>\n",
       "      <th>Variance</th>\n",
       "      <th>Range</th>\n",
       "      <th>Class</th>\n",
       "    </tr>\n",
       "    <tr>\n",
       "      <th>DATETIME</th>\n",
       "      <th></th>\n",
       "      <th></th>\n",
       "      <th></th>\n",
       "      <th></th>\n",
       "      <th></th>\n",
       "      <th></th>\n",
       "    </tr>\n",
       "  </thead>\n",
       "  <tbody>\n",
       "    <tr>\n",
       "      <th>2022-12-06 10:37:08</th>\n",
       "      <td>2022-12-06 10:37:08</td>\n",
       "      <td>-44.972779</td>\n",
       "      <td>3.200481</td>\n",
       "      <td>8.194461</td>\n",
       "      <td>6.894563</td>\n",
       "      <td>0</td>\n",
       "    </tr>\n",
       "    <tr>\n",
       "      <th>2022-12-06 10:38:08</th>\n",
       "      <td>2022-12-06 10:38:08</td>\n",
       "      <td>-41.017600</td>\n",
       "      <td>6.837133</td>\n",
       "      <td>37.397111</td>\n",
       "      <td>17.660252</td>\n",
       "      <td>0</td>\n",
       "    </tr>\n",
       "    <tr>\n",
       "      <th>2022-12-06 10:39:08</th>\n",
       "      <td>2022-12-06 10:39:08</td>\n",
       "      <td>-44.320090</td>\n",
       "      <td>4.426671</td>\n",
       "      <td>15.676331</td>\n",
       "      <td>11.058298</td>\n",
       "      <td>0</td>\n",
       "    </tr>\n",
       "    <tr>\n",
       "      <th>2022-12-06 10:40:08</th>\n",
       "      <td>2022-12-06 10:40:08</td>\n",
       "      <td>-45.076310</td>\n",
       "      <td>5.855765</td>\n",
       "      <td>27.431991</td>\n",
       "      <td>14.614352</td>\n",
       "      <td>0</td>\n",
       "    </tr>\n",
       "    <tr>\n",
       "      <th>2022-12-06 10:41:08</th>\n",
       "      <td>2022-12-06 10:41:08</td>\n",
       "      <td>-48.320282</td>\n",
       "      <td>6.676486</td>\n",
       "      <td>35.660377</td>\n",
       "      <td>16.557433</td>\n",
       "      <td>0</td>\n",
       "    </tr>\n",
       "    <tr>\n",
       "      <th>...</th>\n",
       "      <td>...</td>\n",
       "      <td>...</td>\n",
       "      <td>...</td>\n",
       "      <td>...</td>\n",
       "      <td>...</td>\n",
       "      <td>...</td>\n",
       "    </tr>\n",
       "    <tr>\n",
       "      <th>2022-12-16 18:00:53</th>\n",
       "      <td>2022-12-16 18:00:53</td>\n",
       "      <td>-131.346043</td>\n",
       "      <td>6.440846</td>\n",
       "      <td>33.187594</td>\n",
       "      <td>16.144817</td>\n",
       "      <td>0</td>\n",
       "    </tr>\n",
       "    <tr>\n",
       "      <th>2022-12-16 18:01:53</th>\n",
       "      <td>2022-12-16 18:01:53</td>\n",
       "      <td>-131.362542</td>\n",
       "      <td>6.467548</td>\n",
       "      <td>33.463337</td>\n",
       "      <td>16.317367</td>\n",
       "      <td>0</td>\n",
       "    </tr>\n",
       "    <tr>\n",
       "      <th>2022-12-16 18:02:53</th>\n",
       "      <td>2022-12-16 18:02:53</td>\n",
       "      <td>-131.487072</td>\n",
       "      <td>6.430353</td>\n",
       "      <td>33.079547</td>\n",
       "      <td>16.174792</td>\n",
       "      <td>0</td>\n",
       "    </tr>\n",
       "    <tr>\n",
       "      <th>2022-12-16 18:03:53</th>\n",
       "      <td>2022-12-16 18:03:53</td>\n",
       "      <td>-131.500582</td>\n",
       "      <td>6.534361</td>\n",
       "      <td>34.158295</td>\n",
       "      <td>16.534925</td>\n",
       "      <td>0</td>\n",
       "    </tr>\n",
       "    <tr>\n",
       "      <th>2022-12-16 18:04:53</th>\n",
       "      <td>2022-12-16 18:04:53</td>\n",
       "      <td>-131.617622</td>\n",
       "      <td>6.435926</td>\n",
       "      <td>33.136912</td>\n",
       "      <td>16.249875</td>\n",
       "      <td>0</td>\n",
       "    </tr>\n",
       "  </tbody>\n",
       "</table>\n",
       "<p>14830 rows × 6 columns</p>\n",
       "</div>"
      ],
      "text/plain": [
       "                                DATETIME        Mean        SD   Variance  \\\n",
       "DATETIME                                                                    \n",
       "2022-12-06 10:37:08  2022-12-06 10:37:08  -44.972779  3.200481   8.194461   \n",
       "2022-12-06 10:38:08  2022-12-06 10:38:08  -41.017600  6.837133  37.397111   \n",
       "2022-12-06 10:39:08  2022-12-06 10:39:08  -44.320090  4.426671  15.676331   \n",
       "2022-12-06 10:40:08  2022-12-06 10:40:08  -45.076310  5.855765  27.431991   \n",
       "2022-12-06 10:41:08  2022-12-06 10:41:08  -48.320282  6.676486  35.660377   \n",
       "...                                  ...         ...       ...        ...   \n",
       "2022-12-16 18:00:53  2022-12-16 18:00:53 -131.346043  6.440846  33.187594   \n",
       "2022-12-16 18:01:53  2022-12-16 18:01:53 -131.362542  6.467548  33.463337   \n",
       "2022-12-16 18:02:53  2022-12-16 18:02:53 -131.487072  6.430353  33.079547   \n",
       "2022-12-16 18:03:53  2022-12-16 18:03:53 -131.500582  6.534361  34.158295   \n",
       "2022-12-16 18:04:53  2022-12-16 18:04:53 -131.617622  6.435926  33.136912   \n",
       "\n",
       "                         Range  Class  \n",
       "DATETIME                               \n",
       "2022-12-06 10:37:08   6.894563      0  \n",
       "2022-12-06 10:38:08  17.660252      0  \n",
       "2022-12-06 10:39:08  11.058298      0  \n",
       "2022-12-06 10:40:08  14.614352      0  \n",
       "2022-12-06 10:41:08  16.557433      0  \n",
       "...                        ...    ...  \n",
       "2022-12-16 18:00:53  16.144817      0  \n",
       "2022-12-16 18:01:53  16.317367      0  \n",
       "2022-12-16 18:02:53  16.174792      0  \n",
       "2022-12-16 18:03:53  16.534925      0  \n",
       "2022-12-16 18:04:53  16.249875      0  \n",
       "\n",
       "[14830 rows x 6 columns]"
      ]
     },
     "execution_count": 41,
     "metadata": {},
     "output_type": "execute_result"
    }
   ],
   "source": [
    "test_data_21ip = pd.read_csv(\"../change_datetime_csv/21IP_Drum_Level-6_Dec_2022-Statistics-Class-Extract-Change_Datetime.csv\", delimiter=\",\")\n",
    "test_data_21ip.index = pd.to_datetime(test_data_21ip[\"DATETIME\"])\n",
    "test_data_21ip"
   ]
  },
  {
   "cell_type": "code",
   "execution_count": 42,
   "id": "49ceb14e",
   "metadata": {},
   "outputs": [
    {
     "data": {
      "text/html": [
       "<div>\n",
       "<style scoped>\n",
       "    .dataframe tbody tr th:only-of-type {\n",
       "        vertical-align: middle;\n",
       "    }\n",
       "\n",
       "    .dataframe tbody tr th {\n",
       "        vertical-align: top;\n",
       "    }\n",
       "\n",
       "    .dataframe thead th {\n",
       "        text-align: right;\n",
       "    }\n",
       "</style>\n",
       "<table border=\"1\" class=\"dataframe\">\n",
       "  <thead>\n",
       "    <tr style=\"text-align: right;\">\n",
       "      <th></th>\n",
       "      <th>Mean</th>\n",
       "      <th>SD</th>\n",
       "      <th>Variance</th>\n",
       "      <th>Range</th>\n",
       "      <th>Class</th>\n",
       "    </tr>\n",
       "    <tr>\n",
       "      <th>DATETIME</th>\n",
       "      <th></th>\n",
       "      <th></th>\n",
       "      <th></th>\n",
       "      <th></th>\n",
       "      <th></th>\n",
       "    </tr>\n",
       "  </thead>\n",
       "  <tbody>\n",
       "    <tr>\n",
       "      <th>2022-12-06 10:37:08</th>\n",
       "      <td>-44.972779</td>\n",
       "      <td>3.200481</td>\n",
       "      <td>8.194461</td>\n",
       "      <td>6.894563</td>\n",
       "      <td>0</td>\n",
       "    </tr>\n",
       "    <tr>\n",
       "      <th>2022-12-06 10:38:08</th>\n",
       "      <td>-41.017600</td>\n",
       "      <td>6.837133</td>\n",
       "      <td>37.397111</td>\n",
       "      <td>17.660252</td>\n",
       "      <td>0</td>\n",
       "    </tr>\n",
       "    <tr>\n",
       "      <th>2022-12-06 10:39:08</th>\n",
       "      <td>-44.320090</td>\n",
       "      <td>4.426671</td>\n",
       "      <td>15.676331</td>\n",
       "      <td>11.058298</td>\n",
       "      <td>0</td>\n",
       "    </tr>\n",
       "    <tr>\n",
       "      <th>2022-12-06 10:40:08</th>\n",
       "      <td>-45.076310</td>\n",
       "      <td>5.855765</td>\n",
       "      <td>27.431991</td>\n",
       "      <td>14.614352</td>\n",
       "      <td>0</td>\n",
       "    </tr>\n",
       "    <tr>\n",
       "      <th>2022-12-06 10:41:08</th>\n",
       "      <td>-48.320282</td>\n",
       "      <td>6.676486</td>\n",
       "      <td>35.660377</td>\n",
       "      <td>16.557433</td>\n",
       "      <td>0</td>\n",
       "    </tr>\n",
       "    <tr>\n",
       "      <th>...</th>\n",
       "      <td>...</td>\n",
       "      <td>...</td>\n",
       "      <td>...</td>\n",
       "      <td>...</td>\n",
       "      <td>...</td>\n",
       "    </tr>\n",
       "    <tr>\n",
       "      <th>2022-12-16 18:00:53</th>\n",
       "      <td>-131.346043</td>\n",
       "      <td>6.440846</td>\n",
       "      <td>33.187594</td>\n",
       "      <td>16.144817</td>\n",
       "      <td>0</td>\n",
       "    </tr>\n",
       "    <tr>\n",
       "      <th>2022-12-16 18:01:53</th>\n",
       "      <td>-131.362542</td>\n",
       "      <td>6.467548</td>\n",
       "      <td>33.463337</td>\n",
       "      <td>16.317367</td>\n",
       "      <td>0</td>\n",
       "    </tr>\n",
       "    <tr>\n",
       "      <th>2022-12-16 18:02:53</th>\n",
       "      <td>-131.487072</td>\n",
       "      <td>6.430353</td>\n",
       "      <td>33.079547</td>\n",
       "      <td>16.174792</td>\n",
       "      <td>0</td>\n",
       "    </tr>\n",
       "    <tr>\n",
       "      <th>2022-12-16 18:03:53</th>\n",
       "      <td>-131.500582</td>\n",
       "      <td>6.534361</td>\n",
       "      <td>34.158295</td>\n",
       "      <td>16.534925</td>\n",
       "      <td>0</td>\n",
       "    </tr>\n",
       "    <tr>\n",
       "      <th>2022-12-16 18:04:53</th>\n",
       "      <td>-131.617622</td>\n",
       "      <td>6.435926</td>\n",
       "      <td>33.136912</td>\n",
       "      <td>16.249875</td>\n",
       "      <td>0</td>\n",
       "    </tr>\n",
       "  </tbody>\n",
       "</table>\n",
       "<p>14830 rows × 5 columns</p>\n",
       "</div>"
      ],
      "text/plain": [
       "                           Mean        SD   Variance      Range  Class\n",
       "DATETIME                                                              \n",
       "2022-12-06 10:37:08  -44.972779  3.200481   8.194461   6.894563      0\n",
       "2022-12-06 10:38:08  -41.017600  6.837133  37.397111  17.660252      0\n",
       "2022-12-06 10:39:08  -44.320090  4.426671  15.676331  11.058298      0\n",
       "2022-12-06 10:40:08  -45.076310  5.855765  27.431991  14.614352      0\n",
       "2022-12-06 10:41:08  -48.320282  6.676486  35.660377  16.557433      0\n",
       "...                         ...       ...        ...        ...    ...\n",
       "2022-12-16 18:00:53 -131.346043  6.440846  33.187594  16.144817      0\n",
       "2022-12-16 18:01:53 -131.362542  6.467548  33.463337  16.317367      0\n",
       "2022-12-16 18:02:53 -131.487072  6.430353  33.079547  16.174792      0\n",
       "2022-12-16 18:03:53 -131.500582  6.534361  34.158295  16.534925      0\n",
       "2022-12-16 18:04:53 -131.617622  6.435926  33.136912  16.249875      0\n",
       "\n",
       "[14830 rows x 5 columns]"
      ]
     },
     "execution_count": 42,
     "metadata": {},
     "output_type": "execute_result"
    }
   ],
   "source": [
    "test_data_21ip.drop(['DATETIME'], axis=1)"
   ]
  },
  {
   "cell_type": "code",
   "execution_count": 44,
   "id": "babc52a7",
   "metadata": {},
   "outputs": [
    {
     "data": {
      "text/plain": [
       "array([[ -44.97277933,    3.2004806 ,    8.19446086,    6.89456333,\n",
       "           0.        ],\n",
       "       [ -41.01759967,    6.8371331 ,   37.39711123,   17.66025167,\n",
       "           0.        ],\n",
       "       [ -44.32009033,    4.42667068,   15.67633061,   11.0582975 ,\n",
       "           0.        ],\n",
       "       ...,\n",
       "       [-131.4870717 ,    6.43035254,   33.07954702,   16.17479167,\n",
       "           0.        ],\n",
       "       [-131.5005817 ,    6.53436067,   34.15829544,   16.534925  ,\n",
       "           0.        ],\n",
       "       [-131.6176217 ,    6.43592569,   33.13691162,   16.249875  ,\n",
       "           0.        ]])"
      ]
     },
     "execution_count": 44,
     "metadata": {},
     "output_type": "execute_result"
    }
   ],
   "source": [
    "test_data_21ip = test_data_21ip[test_data_21ip.columns[1:]].to_numpy()\n",
    "test_data_21ip"
   ]
  },
  {
   "cell_type": "code",
   "execution_count": 45,
   "id": "3cbc332c",
   "metadata": {},
   "outputs": [
    {
     "name": "stdout",
     "output_type": "stream",
     "text": [
      "Shape of x_test: (14830, 5)\n"
     ]
    }
   ],
   "source": [
    "print(\"Shape of x_test: {}\".format(test_data_21ip.shape))"
   ]
  },
  {
   "cell_type": "code",
   "execution_count": 46,
   "id": "105eef86",
   "metadata": {},
   "outputs": [
    {
     "data": {
      "text/plain": [
       "array([[ -44.97277933,    3.2004806 ,    8.19446086,    6.89456333],\n",
       "       [ -41.01759967,    6.8371331 ,   37.39711123,   17.66025167],\n",
       "       [ -44.32009033,    4.42667068,   15.67633061,   11.0582975 ],\n",
       "       ...,\n",
       "       [-131.4870717 ,    6.43035254,   33.07954702,   16.17479167],\n",
       "       [-131.5005817 ,    6.53436067,   34.15829544,   16.534925  ],\n",
       "       [-131.6176217 ,    6.43592569,   33.13691162,   16.249875  ]])"
      ]
     },
     "execution_count": 46,
     "metadata": {},
     "output_type": "execute_result"
    }
   ],
   "source": [
    "x_test = test_data_21ip[:, 0:4] \n",
    "x_test"
   ]
  },
  {
   "cell_type": "code",
   "execution_count": 47,
   "id": "cda91af0",
   "metadata": {},
   "outputs": [
    {
     "data": {
      "text/plain": [
       "array([0., 0., 0., ..., 0., 0., 0.])"
      ]
     },
     "execution_count": 47,
     "metadata": {},
     "output_type": "execute_result"
    }
   ],
   "source": [
    "y_test = test_data_21ip[:, 4] \n",
    "y_test"
   ]
  },
  {
   "cell_type": "markdown",
   "id": "06718992",
   "metadata": {},
   "source": [
    "### Test model"
   ]
  },
  {
   "cell_type": "code",
   "execution_count": 48,
   "id": "acfe64d2",
   "metadata": {},
   "outputs": [
    {
     "name": "stdout",
     "output_type": "stream",
     "text": [
      "Mean Absolute Error: 0.00039898746831258425\n"
     ]
    }
   ],
   "source": [
    "# test_forecasts = xbg_cla.predict(x_test)\n",
    "test_forecasts = xbg_cla.predict(xgb.DMatrix(x_test))\n",
    "test_mae = mean_absolute_error(y_test, test_forecasts)\n",
    "# print(test_mae)\n",
    "print(\"Mean Absolute Error: {}\".format(test_mae))\n",
    "# print(\"Mean test data value: {}\".format(np.mean(y_test)))"
   ]
  },
  {
   "cell_type": "code",
   "execution_count": 49,
   "id": "8f87fda1",
   "metadata": {},
   "outputs": [
    {
     "data": {
      "text/plain": [
       "array([0.00039899, 0.00039899, 0.00039899, ..., 0.00039899, 0.00039899,\n",
       "       0.00039899], dtype=float32)"
      ]
     },
     "execution_count": 49,
     "metadata": {},
     "output_type": "execute_result"
    }
   ],
   "source": [
    "test_forecasts"
   ]
  },
  {
   "cell_type": "code",
   "execution_count": 50,
   "id": "f653d5d5",
   "metadata": {},
   "outputs": [
    {
     "data": {
      "text/plain": [
       "array([[14828,     0],\n",
       "       [    0,     2]], dtype=int64)"
      ]
     },
     "execution_count": 50,
     "metadata": {},
     "output_type": "execute_result"
    }
   ],
   "source": [
    "from sklearn.metrics import classification_report, confusion_matrix\n",
    "# accuracy_score(y_true, y_pred.round(), normalize=False)\n",
    "test_cm = confusion_matrix(y_test, test_forecasts.round())\n",
    "test_cm"
   ]
  },
  {
   "cell_type": "code",
   "execution_count": 51,
   "id": "0a8fe775",
   "metadata": {},
   "outputs": [
    {
     "data": {
      "image/png": "[encoded data removed]",
      "text/plain": [
       "<Figure size 640x480 with 2 Axes>"
      ]
     },
     "metadata": {},
     "output_type": "display_data"
    }
   ],
   "source": [
    "import seaborn as sns\n",
    "import matplotlib.pyplot as plt\n",
    "\n",
    "ax = sns.heatmap(test_cm, annot=True, fmt='g', cmap=\"Blues\")\n",
    "\n",
    "ax.set_title('Seaborn Confusion Matrix with labels!!')\n",
    "ax.set_xlabel('Predicted label')\n",
    "ax.set_ylabel('True label')\n",
    "ax.xaxis.set_ticklabels(['0', '1'])\n",
    "ax.yaxis.set_ticklabels(['0', '1'])\n",
    "\n",
    "plt.show()"
   ]
  },
  {
   "cell_type": "code",
   "execution_count": 52,
   "id": "e54a20c5",
   "metadata": {},
   "outputs": [
    {
     "name": "stdout",
     "output_type": "stream",
     "text": [
      "Accuracy score: 1.0\n"
     ]
    }
   ],
   "source": [
    "from sklearn.metrics import accuracy_score\n",
    "\n",
    "acc = accuracy_score(y_test, test_forecasts.round())\n",
    "print(\"Accuracy score: {}\".format(acc))"
   ]
  },
  {
   "cell_type": "code",
   "execution_count": null,
   "id": "3ce92c2a",
   "metadata": {},
   "outputs": [],
   "source": []
  }
 ],
 "metadata": {
  "kernelspec": {
   "display_name": "Python 3 (ipykernel)",
   "language": "python",
   "name": "python3"
  },
  "language_info": {
   "codemirror_mode": {
    "name": "ipython",
    "version": 3
   },
   "file_extension": ".py",
   "mimetype": "text/x-python",
   "name": "python",
   "nbconvert_exporter": "python",
   "pygments_lexer": "ipython3",
   "version": "3.9.13"
  }
 },
 "nbformat": 4,
 "nbformat_minor": 5
}
