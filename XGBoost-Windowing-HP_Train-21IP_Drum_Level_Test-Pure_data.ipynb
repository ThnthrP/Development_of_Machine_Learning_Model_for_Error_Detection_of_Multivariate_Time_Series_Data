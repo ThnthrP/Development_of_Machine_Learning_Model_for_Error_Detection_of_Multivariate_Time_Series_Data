{
 "cells": [
  {
   "cell_type": "markdown",
   "id": "25c8ab73",
   "metadata": {},
   "source": [
    "# 1. Import Library"
   ]
  },
  {
   "cell_type": "code",
   "execution_count": 28,
   "id": "52ac4e36",
   "metadata": {},
   "outputs": [],
   "source": [
    "import pandas as pd\n",
    "import numpy as np\n",
    "import utils_stats\n",
    "from sklearn.model_selection import train_test_split\n",
    "import xgboost as xgb\n",
    "from sklearn.multioutput import MultiOutputRegressor\n",
    "from sklearn.metrics import mean_absolute_error\n",
    "import matplotlib.pyplot as plt"
   ]
  },
  {
   "cell_type": "markdown",
   "id": "55282679",
   "metadata": {},
   "source": [
    "# 2. Define hyperparameters and other important variables"
   ]
  },
  {
   "cell_type": "code",
   "execution_count": 29,
   "id": "e9979d03",
   "metadata": {},
   "outputs": [],
   "source": [
    "target_variable = \"Class\"\n",
    "Mean = \"Mean\"\n",
    "SD = \"SD\"\n",
    "Variance = \"Variance\"\n",
    "Range = \"Range\"\n",
    "\n",
    "timestamp_col = \"DATETIME\"\n",
    "\n",
    "target_sequence_length = 1\n",
    "\n",
    "# test_size = 1.00\n",
    "\n",
    "# first_day_test = \"6/12/2022 10:37:29\" #2022-12-06T10:37:29.137020+07:00\n",
    "\n",
    "# last_day_test = \"16/12/2022 18:04:20\" #2022-12-16T18:04:20.141187+07:00\n",
    "\n",
    "# spotclasses = pd.read_csv(\"HP_DRUM_LEVEL_revise-Statistical_Model-Extract.csv\", delimiter=\",\")\n",
    "\n",
    "hyperparameters = {\n",
    "    \"in_length\" : 5,\n",
    "    \"step_size\" : 1,\n",
    "    \"n_estimators\" : 20,     #an optimal number of trees\n",
    "    \"max_depth\" : 6,         #This should be between 3-10. 4-6 can be good starting points\n",
    "    \"subsample\" : 0.5,       #This is a commonly used used start value. Typical values range between 0.5-0.9\n",
    "    \"min_child_weight\" : 1,  #A smaller value is chosen because it is a highly imbalanced class problem and \n",
    "                             #leaf nodes can have smaller size groups\n",
    "    \"selected_features\" : [Mean, SD, Variance, Range, target_variable]\n",
    "    }"
   ]
  },
  {
   "cell_type": "markdown",
   "id": "25c0a2fe",
   "metadata": {},
   "source": [
    "# 3. Prepare data"
   ]
  },
  {
   "cell_type": "markdown",
   "id": "b21b104e",
   "metadata": {},
   "source": [
    "First, we load the data and split it into train and test. It is important that the shuffle argument is False, because we need to maintain the original order of the data points in the data."
   ]
  },
  {
   "cell_type": "markdown",
   "id": "1fe85c49",
   "metadata": {},
   "source": [
    "## 3.1 Train Test Split"
   ]
  },
  {
   "cell_type": "code",
   "execution_count": 30,
   "id": "4bf8f70a",
   "metadata": {},
   "outputs": [
    {
     "data": {
      "text/html": [
       "<div>\n",
       "<style scoped>\n",
       "    .dataframe tbody tr th:only-of-type {\n",
       "        vertical-align: middle;\n",
       "    }\n",
       "\n",
       "    .dataframe tbody tr th {\n",
       "        vertical-align: top;\n",
       "    }\n",
       "\n",
       "    .dataframe thead th {\n",
       "        text-align: right;\n",
       "    }\n",
       "</style>\n",
       "<table border=\"1\" class=\"dataframe\">\n",
       "  <thead>\n",
       "    <tr style=\"text-align: right;\">\n",
       "      <th></th>\n",
       "      <th>Mean</th>\n",
       "      <th>SD</th>\n",
       "      <th>Variance</th>\n",
       "      <th>Range</th>\n",
       "      <th>Class</th>\n",
       "    </tr>\n",
       "    <tr>\n",
       "      <th>DATETIME</th>\n",
       "      <th></th>\n",
       "      <th></th>\n",
       "      <th></th>\n",
       "      <th></th>\n",
       "      <th></th>\n",
       "    </tr>\n",
       "  </thead>\n",
       "  <tbody>\n",
       "    <tr>\n",
       "      <th>2021-01-07 00:11:00</th>\n",
       "      <td>152.190</td>\n",
       "      <td>13.291947</td>\n",
       "      <td>141.340680</td>\n",
       "      <td>28.45</td>\n",
       "      <td>0</td>\n",
       "    </tr>\n",
       "    <tr>\n",
       "      <th>2021-01-07 00:12:00</th>\n",
       "      <td>152.256</td>\n",
       "      <td>13.369126</td>\n",
       "      <td>142.986824</td>\n",
       "      <td>28.34</td>\n",
       "      <td>0</td>\n",
       "    </tr>\n",
       "    <tr>\n",
       "      <th>2021-01-07 00:13:00</th>\n",
       "      <td>152.146</td>\n",
       "      <td>13.411698</td>\n",
       "      <td>143.898904</td>\n",
       "      <td>28.22</td>\n",
       "      <td>0</td>\n",
       "    </tr>\n",
       "    <tr>\n",
       "      <th>2021-01-07 00:14:00</th>\n",
       "      <td>152.122</td>\n",
       "      <td>13.394236</td>\n",
       "      <td>143.524456</td>\n",
       "      <td>28.34</td>\n",
       "      <td>0</td>\n",
       "    </tr>\n",
       "    <tr>\n",
       "      <th>2021-01-07 00:15:00</th>\n",
       "      <td>152.052</td>\n",
       "      <td>13.390699</td>\n",
       "      <td>143.448656</td>\n",
       "      <td>28.34</td>\n",
       "      <td>0</td>\n",
       "    </tr>\n",
       "    <tr>\n",
       "      <th>...</th>\n",
       "      <td>...</td>\n",
       "      <td>...</td>\n",
       "      <td>...</td>\n",
       "      <td>...</td>\n",
       "      <td>...</td>\n",
       "    </tr>\n",
       "    <tr>\n",
       "      <th>2022-04-06 17:42:00</th>\n",
       "      <td>215.218</td>\n",
       "      <td>13.048447</td>\n",
       "      <td>136.209576</td>\n",
       "      <td>26.31</td>\n",
       "      <td>0</td>\n",
       "    </tr>\n",
       "    <tr>\n",
       "      <th>2022-04-06 17:43:00</th>\n",
       "      <td>215.174</td>\n",
       "      <td>13.016059</td>\n",
       "      <td>135.534224</td>\n",
       "      <td>26.19</td>\n",
       "      <td>0</td>\n",
       "    </tr>\n",
       "    <tr>\n",
       "      <th>2022-04-06 17:44:00</th>\n",
       "      <td>215.196</td>\n",
       "      <td>12.987018</td>\n",
       "      <td>134.930104</td>\n",
       "      <td>26.08</td>\n",
       "      <td>0</td>\n",
       "    </tr>\n",
       "    <tr>\n",
       "      <th>2022-04-06 17:45:00</th>\n",
       "      <td>215.264</td>\n",
       "      <td>13.064981</td>\n",
       "      <td>136.554984</td>\n",
       "      <td>25.98</td>\n",
       "      <td>0</td>\n",
       "    </tr>\n",
       "    <tr>\n",
       "      <th>2022-04-06 17:46:00</th>\n",
       "      <td>215.130</td>\n",
       "      <td>12.983257</td>\n",
       "      <td>134.851960</td>\n",
       "      <td>25.97</td>\n",
       "      <td>0</td>\n",
       "    </tr>\n",
       "  </tbody>\n",
       "</table>\n",
       "<p>484736 rows × 5 columns</p>\n",
       "</div>"
      ],
      "text/plain": [
       "                        Mean         SD    Variance  Range  Class\n",
       "DATETIME                                                         \n",
       "2021-01-07 00:11:00  152.190  13.291947  141.340680  28.45      0\n",
       "2021-01-07 00:12:00  152.256  13.369126  142.986824  28.34      0\n",
       "2021-01-07 00:13:00  152.146  13.411698  143.898904  28.22      0\n",
       "2021-01-07 00:14:00  152.122  13.394236  143.524456  28.34      0\n",
       "2021-01-07 00:15:00  152.052  13.390699  143.448656  28.34      0\n",
       "...                      ...        ...         ...    ...    ...\n",
       "2022-04-06 17:42:00  215.218  13.048447  136.209576  26.31      0\n",
       "2022-04-06 17:43:00  215.174  13.016059  135.534224  26.19      0\n",
       "2022-04-06 17:44:00  215.196  12.987018  134.930104  26.08      0\n",
       "2022-04-06 17:45:00  215.264  13.064981  136.554984  25.98      0\n",
       "2022-04-06 17:46:00  215.130  12.983257  134.851960  25.97      0\n",
       "\n",
       "[484736 rows x 5 columns]"
      ]
     },
     "execution_count": 30,
     "metadata": {},
     "output_type": "execute_result"
    }
   ],
   "source": [
    "training_data = utils_stats.load_data()\n",
    "training_data"
   ]
  },
  {
   "cell_type": "code",
   "execution_count": 31,
   "id": "dc6e2faa",
   "metadata": {},
   "outputs": [
    {
     "data": {
      "text/html": [
       "<div>\n",
       "<style scoped>\n",
       "    .dataframe tbody tr th:only-of-type {\n",
       "        vertical-align: middle;\n",
       "    }\n",
       "\n",
       "    .dataframe tbody tr th {\n",
       "        vertical-align: top;\n",
       "    }\n",
       "\n",
       "    .dataframe thead th {\n",
       "        text-align: right;\n",
       "    }\n",
       "</style>\n",
       "<table border=\"1\" class=\"dataframe\">\n",
       "  <thead>\n",
       "    <tr style=\"text-align: right;\">\n",
       "      <th></th>\n",
       "      <th>DATETIME</th>\n",
       "      <th>Mean</th>\n",
       "      <th>SD</th>\n",
       "      <th>Variance</th>\n",
       "      <th>Range</th>\n",
       "      <th>Class</th>\n",
       "    </tr>\n",
       "  </thead>\n",
       "  <tbody>\n",
       "    <tr>\n",
       "      <th>0</th>\n",
       "      <td>2022-12-06 10:37:08</td>\n",
       "      <td>-44.972779</td>\n",
       "      <td>3.200481</td>\n",
       "      <td>8.194461</td>\n",
       "      <td>6.894563</td>\n",
       "      <td>0</td>\n",
       "    </tr>\n",
       "    <tr>\n",
       "      <th>1</th>\n",
       "      <td>2022-12-06 10:38:08</td>\n",
       "      <td>-41.017600</td>\n",
       "      <td>6.837133</td>\n",
       "      <td>37.397111</td>\n",
       "      <td>17.660252</td>\n",
       "      <td>0</td>\n",
       "    </tr>\n",
       "    <tr>\n",
       "      <th>2</th>\n",
       "      <td>2022-12-06 10:39:08</td>\n",
       "      <td>-44.320090</td>\n",
       "      <td>4.426671</td>\n",
       "      <td>15.676331</td>\n",
       "      <td>11.058298</td>\n",
       "      <td>0</td>\n",
       "    </tr>\n",
       "    <tr>\n",
       "      <th>3</th>\n",
       "      <td>2022-12-06 10:40:08</td>\n",
       "      <td>-45.076310</td>\n",
       "      <td>5.855765</td>\n",
       "      <td>27.431991</td>\n",
       "      <td>14.614352</td>\n",
       "      <td>0</td>\n",
       "    </tr>\n",
       "    <tr>\n",
       "      <th>4</th>\n",
       "      <td>2022-12-06 10:41:08</td>\n",
       "      <td>-48.320282</td>\n",
       "      <td>6.676486</td>\n",
       "      <td>35.660377</td>\n",
       "      <td>16.557433</td>\n",
       "      <td>0</td>\n",
       "    </tr>\n",
       "    <tr>\n",
       "      <th>...</th>\n",
       "      <td>...</td>\n",
       "      <td>...</td>\n",
       "      <td>...</td>\n",
       "      <td>...</td>\n",
       "      <td>...</td>\n",
       "      <td>...</td>\n",
       "    </tr>\n",
       "    <tr>\n",
       "      <th>14825</th>\n",
       "      <td>2022-12-16 18:00:53</td>\n",
       "      <td>-131.346043</td>\n",
       "      <td>6.440846</td>\n",
       "      <td>33.187594</td>\n",
       "      <td>16.144817</td>\n",
       "      <td>0</td>\n",
       "    </tr>\n",
       "    <tr>\n",
       "      <th>14826</th>\n",
       "      <td>2022-12-16 18:01:53</td>\n",
       "      <td>-131.362542</td>\n",
       "      <td>6.467548</td>\n",
       "      <td>33.463337</td>\n",
       "      <td>16.317367</td>\n",
       "      <td>0</td>\n",
       "    </tr>\n",
       "    <tr>\n",
       "      <th>14827</th>\n",
       "      <td>2022-12-16 18:02:53</td>\n",
       "      <td>-131.487072</td>\n",
       "      <td>6.430353</td>\n",
       "      <td>33.079547</td>\n",
       "      <td>16.174792</td>\n",
       "      <td>0</td>\n",
       "    </tr>\n",
       "    <tr>\n",
       "      <th>14828</th>\n",
       "      <td>2022-12-16 18:03:53</td>\n",
       "      <td>-131.500582</td>\n",
       "      <td>6.534361</td>\n",
       "      <td>34.158295</td>\n",
       "      <td>16.534925</td>\n",
       "      <td>0</td>\n",
       "    </tr>\n",
       "    <tr>\n",
       "      <th>14829</th>\n",
       "      <td>2022-12-16 18:04:53</td>\n",
       "      <td>-131.617622</td>\n",
       "      <td>6.435926</td>\n",
       "      <td>33.136912</td>\n",
       "      <td>16.249875</td>\n",
       "      <td>0</td>\n",
       "    </tr>\n",
       "  </tbody>\n",
       "</table>\n",
       "<p>14830 rows × 6 columns</p>\n",
       "</div>"
      ],
      "text/plain": [
       "                  DATETIME        Mean        SD   Variance      Range  Class\n",
       "0      2022-12-06 10:37:08  -44.972779  3.200481   8.194461   6.894563      0\n",
       "1      2022-12-06 10:38:08  -41.017600  6.837133  37.397111  17.660252      0\n",
       "2      2022-12-06 10:39:08  -44.320090  4.426671  15.676331  11.058298      0\n",
       "3      2022-12-06 10:40:08  -45.076310  5.855765  27.431991  14.614352      0\n",
       "4      2022-12-06 10:41:08  -48.320282  6.676486  35.660377  16.557433      0\n",
       "...                    ...         ...       ...        ...        ...    ...\n",
       "14825  2022-12-16 18:00:53 -131.346043  6.440846  33.187594  16.144817      0\n",
       "14826  2022-12-16 18:01:53 -131.362542  6.467548  33.463337  16.317367      0\n",
       "14827  2022-12-16 18:02:53 -131.487072  6.430353  33.079547  16.174792      0\n",
       "14828  2022-12-16 18:03:53 -131.500582  6.534361  34.158295  16.534925      0\n",
       "14829  2022-12-16 18:04:53 -131.617622  6.435926  33.136912  16.249875      0\n",
       "\n",
       "[14830 rows x 6 columns]"
      ]
     },
     "execution_count": 31,
     "metadata": {},
     "output_type": "execute_result"
    }
   ],
   "source": [
    "test_data = pd.read_csv(\"21IP_Drum_Level-6_Dec_2022-Statistics-Class-Extract-Change_Datetime.csv\", delimiter=\",\")\n",
    "test_data"
   ]
  },
  {
   "cell_type": "code",
   "execution_count": 32,
   "id": "6a5ed235",
   "metadata": {},
   "outputs": [
    {
     "data": {
      "text/html": [
       "<div>\n",
       "<style scoped>\n",
       "    .dataframe tbody tr th:only-of-type {\n",
       "        vertical-align: middle;\n",
       "    }\n",
       "\n",
       "    .dataframe tbody tr th {\n",
       "        vertical-align: top;\n",
       "    }\n",
       "\n",
       "    .dataframe thead th {\n",
       "        text-align: right;\n",
       "    }\n",
       "</style>\n",
       "<table border=\"1\" class=\"dataframe\">\n",
       "  <thead>\n",
       "    <tr style=\"text-align: right;\">\n",
       "      <th></th>\n",
       "      <th>DATETIME</th>\n",
       "      <th>Mean</th>\n",
       "      <th>SD</th>\n",
       "      <th>Variance</th>\n",
       "      <th>Range</th>\n",
       "      <th>Class</th>\n",
       "    </tr>\n",
       "    <tr>\n",
       "      <th>DATETIME</th>\n",
       "      <th></th>\n",
       "      <th></th>\n",
       "      <th></th>\n",
       "      <th></th>\n",
       "      <th></th>\n",
       "      <th></th>\n",
       "    </tr>\n",
       "  </thead>\n",
       "  <tbody>\n",
       "    <tr>\n",
       "      <th>2022-12-06 10:37:08</th>\n",
       "      <td>2022-12-06 10:37:08</td>\n",
       "      <td>-44.972779</td>\n",
       "      <td>3.200481</td>\n",
       "      <td>8.194461</td>\n",
       "      <td>6.894563</td>\n",
       "      <td>0</td>\n",
       "    </tr>\n",
       "    <tr>\n",
       "      <th>2022-12-06 10:38:08</th>\n",
       "      <td>2022-12-06 10:38:08</td>\n",
       "      <td>-41.017600</td>\n",
       "      <td>6.837133</td>\n",
       "      <td>37.397111</td>\n",
       "      <td>17.660252</td>\n",
       "      <td>0</td>\n",
       "    </tr>\n",
       "    <tr>\n",
       "      <th>2022-12-06 10:39:08</th>\n",
       "      <td>2022-12-06 10:39:08</td>\n",
       "      <td>-44.320090</td>\n",
       "      <td>4.426671</td>\n",
       "      <td>15.676331</td>\n",
       "      <td>11.058298</td>\n",
       "      <td>0</td>\n",
       "    </tr>\n",
       "    <tr>\n",
       "      <th>2022-12-06 10:40:08</th>\n",
       "      <td>2022-12-06 10:40:08</td>\n",
       "      <td>-45.076310</td>\n",
       "      <td>5.855765</td>\n",
       "      <td>27.431991</td>\n",
       "      <td>14.614352</td>\n",
       "      <td>0</td>\n",
       "    </tr>\n",
       "    <tr>\n",
       "      <th>2022-12-06 10:41:08</th>\n",
       "      <td>2022-12-06 10:41:08</td>\n",
       "      <td>-48.320282</td>\n",
       "      <td>6.676486</td>\n",
       "      <td>35.660377</td>\n",
       "      <td>16.557433</td>\n",
       "      <td>0</td>\n",
       "    </tr>\n",
       "    <tr>\n",
       "      <th>...</th>\n",
       "      <td>...</td>\n",
       "      <td>...</td>\n",
       "      <td>...</td>\n",
       "      <td>...</td>\n",
       "      <td>...</td>\n",
       "      <td>...</td>\n",
       "    </tr>\n",
       "    <tr>\n",
       "      <th>2022-12-16 18:00:53</th>\n",
       "      <td>2022-12-16 18:00:53</td>\n",
       "      <td>-131.346043</td>\n",
       "      <td>6.440846</td>\n",
       "      <td>33.187594</td>\n",
       "      <td>16.144817</td>\n",
       "      <td>0</td>\n",
       "    </tr>\n",
       "    <tr>\n",
       "      <th>2022-12-16 18:01:53</th>\n",
       "      <td>2022-12-16 18:01:53</td>\n",
       "      <td>-131.362542</td>\n",
       "      <td>6.467548</td>\n",
       "      <td>33.463337</td>\n",
       "      <td>16.317367</td>\n",
       "      <td>0</td>\n",
       "    </tr>\n",
       "    <tr>\n",
       "      <th>2022-12-16 18:02:53</th>\n",
       "      <td>2022-12-16 18:02:53</td>\n",
       "      <td>-131.487072</td>\n",
       "      <td>6.430353</td>\n",
       "      <td>33.079547</td>\n",
       "      <td>16.174792</td>\n",
       "      <td>0</td>\n",
       "    </tr>\n",
       "    <tr>\n",
       "      <th>2022-12-16 18:03:53</th>\n",
       "      <td>2022-12-16 18:03:53</td>\n",
       "      <td>-131.500582</td>\n",
       "      <td>6.534361</td>\n",
       "      <td>34.158295</td>\n",
       "      <td>16.534925</td>\n",
       "      <td>0</td>\n",
       "    </tr>\n",
       "    <tr>\n",
       "      <th>2022-12-16 18:04:53</th>\n",
       "      <td>2022-12-16 18:04:53</td>\n",
       "      <td>-131.617622</td>\n",
       "      <td>6.435926</td>\n",
       "      <td>33.136912</td>\n",
       "      <td>16.249875</td>\n",
       "      <td>0</td>\n",
       "    </tr>\n",
       "  </tbody>\n",
       "</table>\n",
       "<p>14830 rows × 6 columns</p>\n",
       "</div>"
      ],
      "text/plain": [
       "                                DATETIME        Mean        SD   Variance  \\\n",
       "DATETIME                                                                    \n",
       "2022-12-06 10:37:08  2022-12-06 10:37:08  -44.972779  3.200481   8.194461   \n",
       "2022-12-06 10:38:08  2022-12-06 10:38:08  -41.017600  6.837133  37.397111   \n",
       "2022-12-06 10:39:08  2022-12-06 10:39:08  -44.320090  4.426671  15.676331   \n",
       "2022-12-06 10:40:08  2022-12-06 10:40:08  -45.076310  5.855765  27.431991   \n",
       "2022-12-06 10:41:08  2022-12-06 10:41:08  -48.320282  6.676486  35.660377   \n",
       "...                                  ...         ...       ...        ...   \n",
       "2022-12-16 18:00:53  2022-12-16 18:00:53 -131.346043  6.440846  33.187594   \n",
       "2022-12-16 18:01:53  2022-12-16 18:01:53 -131.362542  6.467548  33.463337   \n",
       "2022-12-16 18:02:53  2022-12-16 18:02:53 -131.487072  6.430353  33.079547   \n",
       "2022-12-16 18:03:53  2022-12-16 18:03:53 -131.500582  6.534361  34.158295   \n",
       "2022-12-16 18:04:53  2022-12-16 18:04:53 -131.617622  6.435926  33.136912   \n",
       "\n",
       "                         Range  Class  \n",
       "DATETIME                               \n",
       "2022-12-06 10:37:08   6.894563      0  \n",
       "2022-12-06 10:38:08  17.660252      0  \n",
       "2022-12-06 10:39:08  11.058298      0  \n",
       "2022-12-06 10:40:08  14.614352      0  \n",
       "2022-12-06 10:41:08  16.557433      0  \n",
       "...                        ...    ...  \n",
       "2022-12-16 18:00:53  16.144817      0  \n",
       "2022-12-16 18:01:53  16.317367      0  \n",
       "2022-12-16 18:02:53  16.174792      0  \n",
       "2022-12-16 18:03:53  16.534925      0  \n",
       "2022-12-16 18:04:53  16.249875      0  \n",
       "\n",
       "[14830 rows x 6 columns]"
      ]
     },
     "execution_count": 32,
     "metadata": {},
     "output_type": "execute_result"
    }
   ],
   "source": [
    "test_data.index = pd.to_datetime(test_data[\"DATETIME\"])\n",
    "test_data"
   ]
  },
  {
   "cell_type": "code",
   "execution_count": 33,
   "id": "b3686038",
   "metadata": {},
   "outputs": [
    {
     "data": {
      "text/html": [
       "<div>\n",
       "<style scoped>\n",
       "    .dataframe tbody tr th:only-of-type {\n",
       "        vertical-align: middle;\n",
       "    }\n",
       "\n",
       "    .dataframe tbody tr th {\n",
       "        vertical-align: top;\n",
       "    }\n",
       "\n",
       "    .dataframe thead th {\n",
       "        text-align: right;\n",
       "    }\n",
       "</style>\n",
       "<table border=\"1\" class=\"dataframe\">\n",
       "  <thead>\n",
       "    <tr style=\"text-align: right;\">\n",
       "      <th></th>\n",
       "      <th>Mean</th>\n",
       "      <th>SD</th>\n",
       "      <th>Variance</th>\n",
       "      <th>Range</th>\n",
       "      <th>Class</th>\n",
       "    </tr>\n",
       "    <tr>\n",
       "      <th>DATETIME</th>\n",
       "      <th></th>\n",
       "      <th></th>\n",
       "      <th></th>\n",
       "      <th></th>\n",
       "      <th></th>\n",
       "    </tr>\n",
       "  </thead>\n",
       "  <tbody>\n",
       "    <tr>\n",
       "      <th>2022-12-06 10:37:08</th>\n",
       "      <td>-44.972779</td>\n",
       "      <td>3.200481</td>\n",
       "      <td>8.194461</td>\n",
       "      <td>6.894563</td>\n",
       "      <td>0</td>\n",
       "    </tr>\n",
       "    <tr>\n",
       "      <th>2022-12-06 10:38:08</th>\n",
       "      <td>-41.017600</td>\n",
       "      <td>6.837133</td>\n",
       "      <td>37.397111</td>\n",
       "      <td>17.660252</td>\n",
       "      <td>0</td>\n",
       "    </tr>\n",
       "    <tr>\n",
       "      <th>2022-12-06 10:39:08</th>\n",
       "      <td>-44.320090</td>\n",
       "      <td>4.426671</td>\n",
       "      <td>15.676331</td>\n",
       "      <td>11.058298</td>\n",
       "      <td>0</td>\n",
       "    </tr>\n",
       "    <tr>\n",
       "      <th>2022-12-06 10:40:08</th>\n",
       "      <td>-45.076310</td>\n",
       "      <td>5.855765</td>\n",
       "      <td>27.431991</td>\n",
       "      <td>14.614352</td>\n",
       "      <td>0</td>\n",
       "    </tr>\n",
       "    <tr>\n",
       "      <th>2022-12-06 10:41:08</th>\n",
       "      <td>-48.320282</td>\n",
       "      <td>6.676486</td>\n",
       "      <td>35.660377</td>\n",
       "      <td>16.557433</td>\n",
       "      <td>0</td>\n",
       "    </tr>\n",
       "    <tr>\n",
       "      <th>...</th>\n",
       "      <td>...</td>\n",
       "      <td>...</td>\n",
       "      <td>...</td>\n",
       "      <td>...</td>\n",
       "      <td>...</td>\n",
       "    </tr>\n",
       "    <tr>\n",
       "      <th>2022-12-16 18:00:53</th>\n",
       "      <td>-131.346043</td>\n",
       "      <td>6.440846</td>\n",
       "      <td>33.187594</td>\n",
       "      <td>16.144817</td>\n",
       "      <td>0</td>\n",
       "    </tr>\n",
       "    <tr>\n",
       "      <th>2022-12-16 18:01:53</th>\n",
       "      <td>-131.362542</td>\n",
       "      <td>6.467548</td>\n",
       "      <td>33.463337</td>\n",
       "      <td>16.317367</td>\n",
       "      <td>0</td>\n",
       "    </tr>\n",
       "    <tr>\n",
       "      <th>2022-12-16 18:02:53</th>\n",
       "      <td>-131.487072</td>\n",
       "      <td>6.430353</td>\n",
       "      <td>33.079547</td>\n",
       "      <td>16.174792</td>\n",
       "      <td>0</td>\n",
       "    </tr>\n",
       "    <tr>\n",
       "      <th>2022-12-16 18:03:53</th>\n",
       "      <td>-131.500582</td>\n",
       "      <td>6.534361</td>\n",
       "      <td>34.158295</td>\n",
       "      <td>16.534925</td>\n",
       "      <td>0</td>\n",
       "    </tr>\n",
       "    <tr>\n",
       "      <th>2022-12-16 18:04:53</th>\n",
       "      <td>-131.617622</td>\n",
       "      <td>6.435926</td>\n",
       "      <td>33.136912</td>\n",
       "      <td>16.249875</td>\n",
       "      <td>0</td>\n",
       "    </tr>\n",
       "  </tbody>\n",
       "</table>\n",
       "<p>14830 rows × 5 columns</p>\n",
       "</div>"
      ],
      "text/plain": [
       "                           Mean        SD   Variance      Range  Class\n",
       "DATETIME                                                              \n",
       "2022-12-06 10:37:08  -44.972779  3.200481   8.194461   6.894563      0\n",
       "2022-12-06 10:38:08  -41.017600  6.837133  37.397111  17.660252      0\n",
       "2022-12-06 10:39:08  -44.320090  4.426671  15.676331  11.058298      0\n",
       "2022-12-06 10:40:08  -45.076310  5.855765  27.431991  14.614352      0\n",
       "2022-12-06 10:41:08  -48.320282  6.676486  35.660377  16.557433      0\n",
       "...                         ...       ...        ...        ...    ...\n",
       "2022-12-16 18:00:53 -131.346043  6.440846  33.187594  16.144817      0\n",
       "2022-12-16 18:01:53 -131.362542  6.467548  33.463337  16.317367      0\n",
       "2022-12-16 18:02:53 -131.487072  6.430353  33.079547  16.174792      0\n",
       "2022-12-16 18:03:53 -131.500582  6.534361  34.158295  16.534925      0\n",
       "2022-12-16 18:04:53 -131.617622  6.435926  33.136912  16.249875      0\n",
       "\n",
       "[14830 rows x 5 columns]"
      ]
     },
     "execution_count": 33,
     "metadata": {},
     "output_type": "execute_result"
    }
   ],
   "source": [
    "test_data.drop(['DATETIME'], axis=1)"
   ]
  },
  {
   "cell_type": "markdown",
   "id": "f74dcae4",
   "metadata": {},
   "source": [
    "## 3.2 Slice data for windowing and create test data for xgboost"
   ]
  },
  {
   "cell_type": "code",
   "execution_count": 34,
   "id": "f872f456",
   "metadata": {},
   "outputs": [
    {
     "name": "stdout",
     "output_type": "stream",
     "text": [
      "Preparing data..\n",
      "Finished preparing data!\n",
      "Preparing data..\n",
      "Finished preparing data!\n"
     ]
    }
   ],
   "source": [
    "# Create indices. Must be passed to function that creates (X,Y) pairs so that\n",
    "# it knows where to slice the data\n",
    "training_indices = utils_stats.get_indices_entire_sequence(\n",
    "    data=training_data, \n",
    "    window_size=hyperparameters[\"in_length\"]+target_sequence_length, \n",
    "    step_size=hyperparameters[\"step_size\"]\n",
    "    )\n",
    "\n",
    "# Obtain (X,Y) pairs of training data\n",
    "x_train, y_train = utils_stats.get_xgboost_x_y(\n",
    "    indices=training_indices, \n",
    "    data=training_data[hyperparameters[\"selected_features\"]].to_numpy(),\n",
    "    target_sequence_length=target_sequence_length,\n",
    "    input_seq_len=hyperparameters[\"in_length\"]\n",
    "    )\n",
    "\n",
    "test_indices = utils_stats.get_indices_entire_sequence(\n",
    "    data=test_data, \n",
    "    window_size=hyperparameters[\"in_length\"]+target_sequence_length, \n",
    "    step_size=1\n",
    "    )\n",
    "\n",
    "# Obtain (X,Y) pairs of test data\n",
    "x_test, y_test = utils_stats.get_xgboost_x_y(\n",
    "    indices=test_indices, \n",
    "    data=test_data[hyperparameters[\"selected_features\"]].to_numpy(),\n",
    "    target_sequence_length=target_sequence_length,\n",
    "    input_seq_len=hyperparameters[\"in_length\"]\n",
    "    )"
   ]
  },
  {
   "cell_type": "code",
   "execution_count": 35,
   "id": "cb0482ba",
   "metadata": {},
   "outputs": [
    {
     "data": {
      "text/plain": [
       "array([[152.19      ,  13.29194681, 141.34068   , ..., 143.448656  ,\n",
       "         28.34      ,   0.        ],\n",
       "       [152.256     ,  13.369126  , 142.986824  , ..., 140.826064  ,\n",
       "         28.23      ,   0.        ],\n",
       "       [152.146     ,  13.41169751, 143.898904  , ..., 138.314656  ,\n",
       "         28.        ,   0.        ],\n",
       "       ...,\n",
       "       [215.424     ,  13.21282824, 139.663064  , ..., 136.209576  ,\n",
       "         26.31      ,   0.        ],\n",
       "       [215.266     ,  13.08536129, 136.981344  , ..., 135.534224  ,\n",
       "         26.19      ,   0.        ],\n",
       "       [215.24      ,  13.07486138, 136.7616    , ..., 134.930104  ,\n",
       "         26.08      ,   0.        ]])"
      ]
     },
     "execution_count": 35,
     "metadata": {},
     "output_type": "execute_result"
    }
   ],
   "source": [
    "x_train"
   ]
  },
  {
   "cell_type": "code",
   "execution_count": 36,
   "id": "08a52603",
   "metadata": {},
   "outputs": [
    {
     "data": {
      "text/plain": [
       "array([[152.214     ,  13.26772701, 140.826064  ,  28.23      ,\n",
       "          0.        ],\n",
       "       [152.032     ,  13.14889045, 138.314656  ,  28.        ,\n",
       "          0.        ],\n",
       "       [151.918     ,  13.12935718, 137.904016  ,  27.89      ,\n",
       "          0.        ],\n",
       "       ...,\n",
       "       [215.174     ,  13.01605854, 135.534224  ,  26.19      ,\n",
       "          0.        ],\n",
       "       [215.196     ,  12.98701775, 134.930104  ,  26.08      ,\n",
       "          0.        ],\n",
       "       [215.264     ,  13.06498106, 136.554984  ,  25.98      ,\n",
       "          0.        ]])"
      ]
     },
     "execution_count": 36,
     "metadata": {},
     "output_type": "execute_result"
    }
   ],
   "source": [
    "y_train"
   ]
  },
  {
   "cell_type": "code",
   "execution_count": 37,
   "id": "802d2498",
   "metadata": {},
   "outputs": [
    {
     "data": {
      "text/plain": [
       "array([[ -44.97277933,    3.2004806 ,    8.19446086, ...,   35.66037689,\n",
       "          16.55743333,    0.        ],\n",
       "       [ -41.01759967,    6.8371331 ,   37.39711123, ...,   23.4125841 ,\n",
       "          13.29397667,    0.        ],\n",
       "       [ -44.32009033,    4.42667068,   15.67633061, ...,   17.32000403,\n",
       "          11.83852167,    0.        ],\n",
       "       ...,\n",
       "       [-130.886905  ,    6.58582339,   34.69845582, ...,   33.18759358,\n",
       "          16.14481667,    0.        ],\n",
       "       [-131.0504517 ,    6.58486891,   34.68839884, ...,   33.46333656,\n",
       "          16.31736667,    0.        ],\n",
       "       [-131.1674967 ,    6.46686513,   33.4562757 , ...,   33.07954702,\n",
       "          16.17479167,    0.        ]])"
      ]
     },
     "execution_count": 37,
     "metadata": {},
     "output_type": "execute_result"
    }
   ],
   "source": [
    "x_test"
   ]
  },
  {
   "cell_type": "code",
   "execution_count": 38,
   "id": "8cccaa2f",
   "metadata": {},
   "outputs": [
    {
     "data": {
      "text/plain": [
       "array([[ -53.59284917,    5.40978097,   23.4125841 ,   13.29397667,\n",
       "           0.        ],\n",
       "       [ -56.47070933,    4.65295659,   17.32000403,   11.83852167,\n",
       "           0.        ],\n",
       "       [ -53.8194135 ,    6.40087009,   32.77691037,   15.402095  ,\n",
       "           0.        ],\n",
       "       ...,\n",
       "       [-131.3625417 ,    6.4675475 ,   33.46333656,   16.31736667,\n",
       "           0.        ],\n",
       "       [-131.4870717 ,    6.43035254,   33.07954702,   16.17479167,\n",
       "           0.        ],\n",
       "       [-131.5005817 ,    6.53436067,   34.15829544,   16.534925  ,\n",
       "           0.        ]])"
      ]
     },
     "execution_count": 38,
     "metadata": {},
     "output_type": "execute_result"
    }
   ],
   "source": [
    "y_test"
   ]
  },
  {
   "cell_type": "code",
   "execution_count": 39,
   "id": "832e52c5",
   "metadata": {},
   "outputs": [
    {
     "name": "stdout",
     "output_type": "stream",
     "text": [
      "Shape of x_train: (484730, 25)\n",
      "Shape of y_train: (484730, 5)\n",
      "Shape of x_test: (14824, 25)\n",
      "Shape of y_test: (14824, 5)\n"
     ]
    }
   ],
   "source": [
    "print(\"Shape of x_train: {}\".format(x_train.shape))\n",
    "print(\"Shape of y_train: {}\".format(y_train.shape))\n",
    "print(\"Shape of x_test: {}\".format(x_test.shape))\n",
    "print(\"Shape of y_test: {}\".format(y_test.shape))"
   ]
  },
  {
   "cell_type": "code",
   "execution_count": 40,
   "id": "4b68ce9d",
   "metadata": {},
   "outputs": [
    {
     "data": {
      "text/plain": [
       "array([[152.214     ,  13.26772701, 140.826064  ,  28.23      ],\n",
       "       [152.032     ,  13.14889045, 138.314656  ,  28.        ],\n",
       "       [151.918     ,  13.12935718, 137.904016  ,  27.89      ],\n",
       "       ...,\n",
       "       [215.174     ,  13.01605854, 135.534224  ,  26.19      ],\n",
       "       [215.196     ,  12.98701775, 134.930104  ,  26.08      ],\n",
       "       [215.264     ,  13.06498106, 136.554984  ,  25.98      ]])"
      ]
     },
     "execution_count": 40,
     "metadata": {},
     "output_type": "execute_result"
    }
   ],
   "source": [
    "x_train = y_train[:, 0:4] \n",
    "x_train"
   ]
  },
  {
   "cell_type": "code",
   "execution_count": 41,
   "id": "8e10cb0b",
   "metadata": {},
   "outputs": [
    {
     "data": {
      "text/plain": [
       "array([0., 0., 0., ..., 0., 0., 0.])"
      ]
     },
     "execution_count": 41,
     "metadata": {},
     "output_type": "execute_result"
    }
   ],
   "source": [
    "y_train = y_train[:, 4]\n",
    "y_train"
   ]
  },
  {
   "cell_type": "code",
   "execution_count": 42,
   "id": "31793164",
   "metadata": {},
   "outputs": [
    {
     "data": {
      "text/plain": [
       "array([[ -53.59284917,    5.40978097,   23.4125841 ,   13.29397667],\n",
       "       [ -56.47070933,    4.65295659,   17.32000403,   11.83852167],\n",
       "       [ -53.8194135 ,    6.40087009,   32.77691037,   15.402095  ],\n",
       "       ...,\n",
       "       [-131.3625417 ,    6.4675475 ,   33.46333656,   16.31736667],\n",
       "       [-131.4870717 ,    6.43035254,   33.07954702,   16.17479167],\n",
       "       [-131.5005817 ,    6.53436067,   34.15829544,   16.534925  ]])"
      ]
     },
     "execution_count": 42,
     "metadata": {},
     "output_type": "execute_result"
    }
   ],
   "source": [
    "x_test = y_test[:, 0:4] \n",
    "x_test"
   ]
  },
  {
   "cell_type": "code",
   "execution_count": 43,
   "id": "9cd7bc7d",
   "metadata": {},
   "outputs": [
    {
     "data": {
      "text/plain": [
       "array([0., 0., 0., ..., 0., 0., 0.])"
      ]
     },
     "execution_count": 43,
     "metadata": {},
     "output_type": "execute_result"
    }
   ],
   "source": [
    "y_test = y_test[:, 4] \n",
    "y_test"
   ]
  },
  {
   "cell_type": "markdown",
   "id": "364129b8",
   "metadata": {},
   "source": [
    "# 4. Classifier"
   ]
  },
  {
   "cell_type": "markdown",
   "id": "d8905ded",
   "metadata": {},
   "source": [
    "## 4.1 Train model"
   ]
  },
  {
   "cell_type": "code",
   "execution_count": 44,
   "id": "10ddd33c",
   "metadata": {},
   "outputs": [
    {
     "data": {
      "text/plain": [
       "array([0, 0, 0, ..., 0, 0, 0], dtype=int64)"
      ]
     },
     "execution_count": 44,
     "metadata": {},
     "output_type": "execute_result"
    }
   ],
   "source": [
    "from sklearn.preprocessing import LabelEncoder\n",
    "le = LabelEncoder()\n",
    "y_train = le.fit_transform(y_train)\n",
    "y_train"
   ]
  },
  {
   "cell_type": "code",
   "execution_count": 45,
   "id": "914800da",
   "metadata": {},
   "outputs": [],
   "source": [
    "# Initialize model\n",
    "model = xgb.XGBClassifier(\n",
    "    n_estimators=hyperparameters[\"n_estimators\"],\n",
    "    max_depth=hyperparameters[\"max_depth\"],\n",
    "    subsample=hyperparameters[\"subsample\"],\n",
    "    min_child_weight=hyperparameters[\"min_child_weight\"],\n",
    "    objective=\"reg:squarederror\",\n",
    "    tree_method=\"hist\"\n",
    "    )\n",
    "\n",
    "y_train\n",
    "\n",
    "trained_model = model.fit(x_train, y_train)\n",
    "\n",
    "train_forecasts = trained_model.predict(x_train)"
   ]
  },
  {
   "cell_type": "code",
   "execution_count": 46,
   "id": "761c2fcf",
   "metadata": {},
   "outputs": [
    {
     "data": {
      "text/plain": [
       "array([[448413,     15],\n",
       "       [   258,  36044]], dtype=int64)"
      ]
     },
     "execution_count": 46,
     "metadata": {},
     "output_type": "execute_result"
    }
   ],
   "source": [
    "from sklearn.metrics import classification_report, confusion_matrix\n",
    "\n",
    "train_cm = confusion_matrix(y_train, train_forecasts)\n",
    "train_cm"
   ]
  },
  {
   "cell_type": "code",
   "execution_count": 47,
   "id": "7a63d4fc",
   "metadata": {},
   "outputs": [
    {
     "data": {
      "image/png": "[encoded data removed]",
      "text/plain": [
       "<Figure size 640x480 with 2 Axes>"
      ]
     },
     "metadata": {},
     "output_type": "display_data"
    }
   ],
   "source": [
    "import seaborn as sns\n",
    "\n",
    "ax = sns.heatmap(train_cm, annot=True, fmt='g', cmap=\"Blues\")\n",
    "\n",
    "ax.set_title('Seaborn Confusion Matrix with labels!!')\n",
    "ax.set_xlabel('Predicted label')\n",
    "ax.set_ylabel('True label')\n",
    "ax.xaxis.set_ticklabels(['0', '1'])\n",
    "ax.yaxis.set_ticklabels(['0', '1'])\n",
    "\n",
    "plt.show()"
   ]
  },
  {
   "cell_type": "code",
   "execution_count": 48,
   "id": "85332f6b",
   "metadata": {},
   "outputs": [
    {
     "name": "stdout",
     "output_type": "stream",
     "text": [
      "Accuracy score: 0.9994367998679677\n"
     ]
    }
   ],
   "source": [
    "from sklearn.metrics import accuracy_score\n",
    "\n",
    "acc_train = accuracy_score(y_train, train_forecasts)\n",
    "print(\"Accuracy score: {}\".format(acc_train))"
   ]
  },
  {
   "cell_type": "markdown",
   "id": "18627a3f",
   "metadata": {},
   "source": [
    "## 4.2 Test model"
   ]
  },
  {
   "cell_type": "code",
   "execution_count": 49,
   "id": "15520400",
   "metadata": {},
   "outputs": [
    {
     "name": "stdout",
     "output_type": "stream",
     "text": [
      "Mean Absolute Error: 0.0\n"
     ]
    }
   ],
   "source": [
    "test_forecasts = trained_model.predict(x_test)\n",
    "test_mae = mean_absolute_error(y_test, test_forecasts)\n",
    "# print(test_mae)\n",
    "print(\"Mean Absolute Error: {}\".format(test_mae))\n",
    "# print(\"Mean test data value: {}\".format(np.mean(y_test)))"
   ]
  },
  {
   "cell_type": "code",
   "execution_count": 50,
   "id": "881e06d4",
   "metadata": {},
   "outputs": [
    {
     "data": {
      "text/plain": [
       "array([[14822,     0],\n",
       "       [    0,     2]], dtype=int64)"
      ]
     },
     "execution_count": 50,
     "metadata": {},
     "output_type": "execute_result"
    }
   ],
   "source": [
    "from sklearn.metrics import classification_report, confusion_matrix\n",
    "\n",
    "test_cm = confusion_matrix(y_test, test_forecasts)\n",
    "test_cm"
   ]
  },
  {
   "cell_type": "code",
   "execution_count": 51,
   "id": "4094c44c",
   "metadata": {},
   "outputs": [
    {
     "data": {
      "image/png": "[encoded data removed]",
      "text/plain": [
       "<Figure size 640x480 with 2 Axes>"
      ]
     },
     "metadata": {},
     "output_type": "display_data"
    }
   ],
   "source": [
    "import seaborn as sns\n",
    "\n",
    "ax = sns.heatmap(test_cm, annot=True, fmt='g', cmap=\"Blues\")\n",
    "\n",
    "ax.set_title('Seaborn Confusion Matrix with labels!!')\n",
    "ax.set_xlabel('Predicted label')\n",
    "ax.set_ylabel('True label')\n",
    "ax.xaxis.set_ticklabels(['0', '1'])\n",
    "ax.yaxis.set_ticklabels(['0', '1'])\n",
    "\n",
    "plt.show()"
   ]
  },
  {
   "cell_type": "code",
   "execution_count": 52,
   "id": "118b9157",
   "metadata": {},
   "outputs": [
    {
     "name": "stdout",
     "output_type": "stream",
     "text": [
      "Accuracy score: 1.0\n"
     ]
    }
   ],
   "source": [
    "from sklearn.metrics import accuracy_score\n",
    "\n",
    "acc = accuracy_score(y_test, test_forecasts)\n",
    "print(\"Accuracy score: {}\".format(acc))"
   ]
  },
  {
   "cell_type": "markdown",
   "id": "72cae654",
   "metadata": {},
   "source": [
    "# 5. Save the Model"
   ]
  },
  {
   "cell_type": "markdown",
   "id": "801ca7c4",
   "metadata": {},
   "source": [
    "## 5.1 Save the Model"
   ]
  },
  {
   "cell_type": "code",
   "execution_count": 1,
   "id": "30320a5b",
   "metadata": {},
   "outputs": [],
   "source": [
    "# # Save the entire model to a HDF5 file.\n",
    "\n",
    "# # Save as JSON file\n",
    "# trained_model.save_model('models/trained_model-HP_Drum_Level_entire_records-XGBoost-Window_5+1.json')\n",
    "\n",
    "# # Save as TXT file\n",
    "# trained_model.save_model('models/trained_model-HP_Drum_Level_entire_records-XGBoost-Window_5+1.txt')"
   ]
  },
  {
   "cell_type": "markdown",
   "id": "3d04a5a9",
   "metadata": {},
   "source": [
    "## 5.2 Test 21IP_Drum_Level"
   ]
  },
  {
   "cell_type": "code",
   "execution_count": 2,
   "id": "3ae32258",
   "metadata": {},
   "outputs": [],
   "source": [
    "import xgboost as xgb"
   ]
  },
  {
   "cell_type": "code",
   "execution_count": 3,
   "id": "51b88026",
   "metadata": {},
   "outputs": [],
   "source": [
    "# import h5py as h5\n",
    "\n",
    "# loaded_model = tf.keras.models.load_model('trained_model-HP_Drum_Level-XGBoost-Window_5+1.')\n",
    "\n",
    "# Blank new instance to be loaded into\n",
    "xbg_cla = xgb.Booster()\n",
    "\n",
    "xbg_cla.load_model(\"../models/trained_model-HP_Drum_Level_entire_records-XGBoost-Window_5+1.json\")"
   ]
  },
  {
   "cell_type": "code",
   "execution_count": 4,
   "id": "3494acc4",
   "metadata": {},
   "outputs": [],
   "source": [
    "import pandas as pd"
   ]
  },
  {
   "cell_type": "code",
   "execution_count": 5,
   "id": "94d86f06",
   "metadata": {},
   "outputs": [
    {
     "data": {
      "text/html": [
       "<div>\n",
       "<style scoped>\n",
       "    .dataframe tbody tr th:only-of-type {\n",
       "        vertical-align: middle;\n",
       "    }\n",
       "\n",
       "    .dataframe tbody tr th {\n",
       "        vertical-align: top;\n",
       "    }\n",
       "\n",
       "    .dataframe thead th {\n",
       "        text-align: right;\n",
       "    }\n",
       "</style>\n",
       "<table border=\"1\" class=\"dataframe\">\n",
       "  <thead>\n",
       "    <tr style=\"text-align: right;\">\n",
       "      <th></th>\n",
       "      <th>Mean</th>\n",
       "      <th>SD</th>\n",
       "      <th>Variance</th>\n",
       "      <th>Range</th>\n",
       "      <th>Class</th>\n",
       "    </tr>\n",
       "    <tr>\n",
       "      <th>DATETIME</th>\n",
       "      <th></th>\n",
       "      <th></th>\n",
       "      <th></th>\n",
       "      <th></th>\n",
       "      <th></th>\n",
       "    </tr>\n",
       "  </thead>\n",
       "  <tbody>\n",
       "    <tr>\n",
       "      <th>2022-12-06 10:37:08</th>\n",
       "      <td>-44.972779</td>\n",
       "      <td>3.200481</td>\n",
       "      <td>8.194461</td>\n",
       "      <td>6.894563</td>\n",
       "      <td>0</td>\n",
       "    </tr>\n",
       "    <tr>\n",
       "      <th>2022-12-06 10:38:08</th>\n",
       "      <td>-41.017600</td>\n",
       "      <td>6.837133</td>\n",
       "      <td>37.397111</td>\n",
       "      <td>17.660252</td>\n",
       "      <td>0</td>\n",
       "    </tr>\n",
       "    <tr>\n",
       "      <th>2022-12-06 10:39:08</th>\n",
       "      <td>-44.320090</td>\n",
       "      <td>4.426671</td>\n",
       "      <td>15.676331</td>\n",
       "      <td>11.058298</td>\n",
       "      <td>0</td>\n",
       "    </tr>\n",
       "    <tr>\n",
       "      <th>2022-12-06 10:40:08</th>\n",
       "      <td>-45.076310</td>\n",
       "      <td>5.855765</td>\n",
       "      <td>27.431991</td>\n",
       "      <td>14.614352</td>\n",
       "      <td>0</td>\n",
       "    </tr>\n",
       "    <tr>\n",
       "      <th>2022-12-06 10:41:08</th>\n",
       "      <td>-48.320282</td>\n",
       "      <td>6.676486</td>\n",
       "      <td>35.660377</td>\n",
       "      <td>16.557433</td>\n",
       "      <td>0</td>\n",
       "    </tr>\n",
       "    <tr>\n",
       "      <th>...</th>\n",
       "      <td>...</td>\n",
       "      <td>...</td>\n",
       "      <td>...</td>\n",
       "      <td>...</td>\n",
       "      <td>...</td>\n",
       "    </tr>\n",
       "    <tr>\n",
       "      <th>2022-12-16 18:00:53</th>\n",
       "      <td>-131.346043</td>\n",
       "      <td>6.440846</td>\n",
       "      <td>33.187594</td>\n",
       "      <td>16.144817</td>\n",
       "      <td>0</td>\n",
       "    </tr>\n",
       "    <tr>\n",
       "      <th>2022-12-16 18:01:53</th>\n",
       "      <td>-131.362542</td>\n",
       "      <td>6.467548</td>\n",
       "      <td>33.463337</td>\n",
       "      <td>16.317367</td>\n",
       "      <td>0</td>\n",
       "    </tr>\n",
       "    <tr>\n",
       "      <th>2022-12-16 18:02:53</th>\n",
       "      <td>-131.487072</td>\n",
       "      <td>6.430353</td>\n",
       "      <td>33.079547</td>\n",
       "      <td>16.174792</td>\n",
       "      <td>0</td>\n",
       "    </tr>\n",
       "    <tr>\n",
       "      <th>2022-12-16 18:03:53</th>\n",
       "      <td>-131.500582</td>\n",
       "      <td>6.534361</td>\n",
       "      <td>34.158295</td>\n",
       "      <td>16.534925</td>\n",
       "      <td>0</td>\n",
       "    </tr>\n",
       "    <tr>\n",
       "      <th>2022-12-16 18:04:53</th>\n",
       "      <td>-131.617622</td>\n",
       "      <td>6.435926</td>\n",
       "      <td>33.136912</td>\n",
       "      <td>16.249875</td>\n",
       "      <td>0</td>\n",
       "    </tr>\n",
       "  </tbody>\n",
       "</table>\n",
       "<p>14830 rows × 5 columns</p>\n",
       "</div>"
      ],
      "text/plain": [
       "                           Mean        SD   Variance      Range  Class\n",
       "DATETIME                                                              \n",
       "2022-12-06 10:37:08  -44.972779  3.200481   8.194461   6.894563      0\n",
       "2022-12-06 10:38:08  -41.017600  6.837133  37.397111  17.660252      0\n",
       "2022-12-06 10:39:08  -44.320090  4.426671  15.676331  11.058298      0\n",
       "2022-12-06 10:40:08  -45.076310  5.855765  27.431991  14.614352      0\n",
       "2022-12-06 10:41:08  -48.320282  6.676486  35.660377  16.557433      0\n",
       "...                         ...       ...        ...        ...    ...\n",
       "2022-12-16 18:00:53 -131.346043  6.440846  33.187594  16.144817      0\n",
       "2022-12-16 18:01:53 -131.362542  6.467548  33.463337  16.317367      0\n",
       "2022-12-16 18:02:53 -131.487072  6.430353  33.079547  16.174792      0\n",
       "2022-12-16 18:03:53 -131.500582  6.534361  34.158295  16.534925      0\n",
       "2022-12-16 18:04:53 -131.617622  6.435926  33.136912  16.249875      0\n",
       "\n",
       "[14830 rows x 5 columns]"
      ]
     },
     "execution_count": 5,
     "metadata": {},
     "output_type": "execute_result"
    }
   ],
   "source": [
    "test_data = pd.read_csv(\"../change_datetime_csv/21IP_Drum_Level-6_Dec_2022-Statistics-Class-Extract-Change_Datetime.csv\", delimiter=\",\")\n",
    "test_data.index = pd.to_datetime(test_data[\"DATETIME\"])\n",
    "test_data.drop(['DATETIME'], axis=1)"
   ]
  },
  {
   "cell_type": "code",
   "execution_count": 6,
   "id": "c231368a",
   "metadata": {},
   "outputs": [],
   "source": [
    "test_data = test_data[test_data.columns[1:]].to_numpy()"
   ]
  },
  {
   "cell_type": "code",
   "execution_count": 7,
   "id": "fabd3647",
   "metadata": {},
   "outputs": [
    {
     "data": {
      "text/plain": [
       "array([[ -44.97277933,    3.2004806 ,    8.19446086,    6.89456333,\n",
       "           0.        ],\n",
       "       [ -41.01759967,    6.8371331 ,   37.39711123,   17.66025167,\n",
       "           0.        ],\n",
       "       [ -44.32009033,    4.42667068,   15.67633061,   11.0582975 ,\n",
       "           0.        ],\n",
       "       ...,\n",
       "       [-131.4870717 ,    6.43035254,   33.07954702,   16.17479167,\n",
       "           0.        ],\n",
       "       [-131.5005817 ,    6.53436067,   34.15829544,   16.534925  ,\n",
       "           0.        ],\n",
       "       [-131.6176217 ,    6.43592569,   33.13691162,   16.249875  ,\n",
       "           0.        ]])"
      ]
     },
     "execution_count": 7,
     "metadata": {},
     "output_type": "execute_result"
    }
   ],
   "source": [
    "test_data"
   ]
  },
  {
   "cell_type": "code",
   "execution_count": 8,
   "id": "7aeedfd8",
   "metadata": {},
   "outputs": [
    {
     "name": "stdout",
     "output_type": "stream",
     "text": [
      "Shape of x_test: (14830, 5)\n"
     ]
    }
   ],
   "source": [
    "print(\"Shape of x_test: {}\".format(test_data.shape))"
   ]
  },
  {
   "cell_type": "code",
   "execution_count": 9,
   "id": "f1de721f",
   "metadata": {},
   "outputs": [
    {
     "data": {
      "text/plain": [
       "array([[ -44.97277933,    3.2004806 ,    8.19446086,    6.89456333],\n",
       "       [ -41.01759967,    6.8371331 ,   37.39711123,   17.66025167],\n",
       "       [ -44.32009033,    4.42667068,   15.67633061,   11.0582975 ],\n",
       "       ...,\n",
       "       [-131.4870717 ,    6.43035254,   33.07954702,   16.17479167],\n",
       "       [-131.5005817 ,    6.53436067,   34.15829544,   16.534925  ],\n",
       "       [-131.6176217 ,    6.43592569,   33.13691162,   16.249875  ]])"
      ]
     },
     "execution_count": 9,
     "metadata": {},
     "output_type": "execute_result"
    }
   ],
   "source": [
    "x_test = test_data[:, 0:4] \n",
    "x_test"
   ]
  },
  {
   "cell_type": "code",
   "execution_count": 10,
   "id": "98d29181",
   "metadata": {},
   "outputs": [
    {
     "data": {
      "text/plain": [
       "array([0., 0., 0., ..., 0., 0., 0.])"
      ]
     },
     "execution_count": 10,
     "metadata": {},
     "output_type": "execute_result"
    }
   ],
   "source": [
    "y_test = test_data[:, 4] \n",
    "y_test"
   ]
  },
  {
   "cell_type": "markdown",
   "id": "0df060e8",
   "metadata": {},
   "source": [
    "### 5.2.1 Test model"
   ]
  },
  {
   "cell_type": "code",
   "execution_count": 11,
   "id": "5e38e757",
   "metadata": {},
   "outputs": [],
   "source": [
    "from sklearn.metrics import mean_absolute_error"
   ]
  },
  {
   "cell_type": "code",
   "execution_count": 12,
   "id": "d5d39852",
   "metadata": {},
   "outputs": [
    {
     "name": "stdout",
     "output_type": "stream",
     "text": [
      "Mean Absolute Error: 0.0003989632552679922\n"
     ]
    }
   ],
   "source": [
    "# test_forecasts = xbg_cla.predict(x_test)\n",
    "test_forecasts = xbg_cla.predict(xgb.DMatrix(x_test))\n",
    "test_mae = mean_absolute_error(y_test, test_forecasts)\n",
    "# print(test_mae)\n",
    "print(\"Mean Absolute Error: {}\".format(test_mae))\n",
    "# print(\"Mean test data value: {}\".format(np.mean(y_test)))"
   ]
  },
  {
   "cell_type": "code",
   "execution_count": 13,
   "id": "3c526ed8",
   "metadata": {},
   "outputs": [
    {
     "data": {
      "text/plain": [
       "array([0.00039896, 0.00039896, 0.00039896, ..., 0.00039896, 0.00039896,\n",
       "       0.00039896], dtype=float32)"
      ]
     },
     "execution_count": 13,
     "metadata": {},
     "output_type": "execute_result"
    }
   ],
   "source": [
    "test_forecasts"
   ]
  },
  {
   "cell_type": "code",
   "execution_count": 14,
   "id": "b9a4397d",
   "metadata": {},
   "outputs": [
    {
     "data": {
      "text/plain": [
       "array([[14828,     0],\n",
       "       [    0,     2]], dtype=int64)"
      ]
     },
     "execution_count": 14,
     "metadata": {},
     "output_type": "execute_result"
    }
   ],
   "source": [
    "from sklearn.metrics import classification_report, confusion_matrix\n",
    "# accuracy_score(y_true, y_pred.round(), normalize=False)\n",
    "test_cm = confusion_matrix(y_test, test_forecasts.round())\n",
    "test_cm"
   ]
  },
  {
   "cell_type": "code",
   "execution_count": 15,
   "id": "772ad88e",
   "metadata": {},
   "outputs": [
    {
     "data": {
      "image/png": "[encoded data removed]",
      "text/plain": [
       "<Figure size 640x480 with 2 Axes>"
      ]
     },
     "metadata": {},
     "output_type": "display_data"
    }
   ],
   "source": [
    "import seaborn as sns\n",
    "import matplotlib.pyplot as plt\n",
    "\n",
    "ax = sns.heatmap(test_cm, annot=True, fmt='g', cmap=\"Blues\")\n",
    "\n",
    "ax.set_title('Seaborn Confusion Matrix with labels!!')\n",
    "ax.set_xlabel('Predicted label')\n",
    "ax.set_ylabel('True label')\n",
    "ax.xaxis.set_ticklabels(['0', '1'])\n",
    "ax.yaxis.set_ticklabels(['0', '1'])\n",
    "\n",
    "plt.show()"
   ]
  },
  {
   "cell_type": "code",
   "execution_count": 16,
   "id": "ef7cbf5e",
   "metadata": {},
   "outputs": [
    {
     "name": "stdout",
     "output_type": "stream",
     "text": [
      "Accuracy score: 1.0\n"
     ]
    }
   ],
   "source": [
    "from sklearn.metrics import accuracy_score\n",
    "\n",
    "acc = accuracy_score(y_test, test_forecasts.round())\n",
    "print(\"Accuracy score: {}\".format(acc))"
   ]
  },
  {
   "cell_type": "code",
   "execution_count": null,
   "id": "a88e383d",
   "metadata": {},
   "outputs": [],
   "source": []
  }
 ],
 "metadata": {
  "kernelspec": {
   "display_name": "Python 3 (ipykernel)",
   "language": "python",
   "name": "python3"
  },
  "language_info": {
   "codemirror_mode": {
    "name": "ipython",
    "version": 3
   },
   "file_extension": ".py",
   "mimetype": "text/x-python",
   "name": "python",
   "nbconvert_exporter": "python",
   "pygments_lexer": "ipython3",
   "version": "3.9.13"
  }
 },
 "nbformat": 4,
 "nbformat_minor": 5
}
