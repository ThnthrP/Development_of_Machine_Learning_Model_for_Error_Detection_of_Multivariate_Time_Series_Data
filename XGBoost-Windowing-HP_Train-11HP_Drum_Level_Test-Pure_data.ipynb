{
 "cells": [
  {
   "cell_type": "markdown",
   "id": "77b581ff",
   "metadata": {},
   "source": [
    "# 1. Import Library"
   ]
  },
  {
   "cell_type": "code",
   "execution_count": 1,
   "id": "e2c8fae8",
   "metadata": {},
   "outputs": [],
   "source": [
    "import pandas as pd\n",
    "import numpy as np\n",
    "import utils_stats\n",
    "from sklearn.model_selection import train_test_split\n",
    "import xgboost as xgb\n",
    "from sklearn.multioutput import MultiOutputRegressor\n",
    "from sklearn.metrics import mean_absolute_error\n",
    "import matplotlib.pyplot as plt"
   ]
  },
  {
   "cell_type": "markdown",
   "id": "0ab49015",
   "metadata": {},
   "source": [
    "# 2. Define hyperparameters and other important variables"
   ]
  },
  {
   "cell_type": "code",
   "execution_count": 2,
   "id": "9c34d524",
   "metadata": {},
   "outputs": [],
   "source": [
    "target_variable = \"Class\"\n",
    "Mean = \"Mean\"\n",
    "SD = \"SD\"\n",
    "Variance = \"Variance\"\n",
    "Range = \"Range\"\n",
    "\n",
    "timestamp_col = \"DATETIME\"\n",
    "\n",
    "target_sequence_length = 1\n",
    "\n",
    "# test_size = 1.00\n",
    "\n",
    "# first_day_test = \"6/12/2022 10:37:29\" #2022-12-06T10:37:29.137020+07:00\n",
    "\n",
    "# last_day_test = \"16/12/2022 18:04:20\" #2022-12-16T18:04:20.141187+07:00\n",
    "\n",
    "# spotclasses = pd.read_csv(\"HP_DRUM_LEVEL_revise-Statistical_Model-Extract.csv\", delimiter=\",\")\n",
    "\n",
    "hyperparameters = {\n",
    "    \"in_length\" : 5,\n",
    "    \"step_size\" : 1,\n",
    "    \"n_estimators\" : 20,     #an optimal number of trees\n",
    "    \"max_depth\" : 6,         #This should be between 3-10. 4-6 can be good starting points\n",
    "    \"subsample\" : 0.5,       #This is a commonly used used start value. Typical values range between 0.5-0.9\n",
    "    \"min_child_weight\" : 1,  #A smaller value is chosen because it is a highly imbalanced class problem and \n",
    "                             #leaf nodes can have smaller size groups\n",
    "    \"selected_features\" : [Mean, SD, Variance, Range, target_variable]\n",
    "    }"
   ]
  },
  {
   "cell_type": "markdown",
   "id": "e3262d22",
   "metadata": {},
   "source": [
    "# 3. Prepare data"
   ]
  },
  {
   "cell_type": "markdown",
   "id": "66e4e7cb",
   "metadata": {},
   "source": [
    "First, we load the data and split it into train and test. It is important that the shuffle argument is False, because we need to maintain the original order of the data points in the data."
   ]
  },
  {
   "cell_type": "markdown",
   "id": "5691bf37",
   "metadata": {},
   "source": [
    "## 3.1 Train Test Split"
   ]
  },
  {
   "cell_type": "code",
   "execution_count": 3,
   "id": "9e8edaea",
   "metadata": {},
   "outputs": [
    {
     "data": {
      "text/html": [
       "<div>\n",
       "<style scoped>\n",
       "    .dataframe tbody tr th:only-of-type {\n",
       "        vertical-align: middle;\n",
       "    }\n",
       "\n",
       "    .dataframe tbody tr th {\n",
       "        vertical-align: top;\n",
       "    }\n",
       "\n",
       "    .dataframe thead th {\n",
       "        text-align: right;\n",
       "    }\n",
       "</style>\n",
       "<table border=\"1\" class=\"dataframe\">\n",
       "  <thead>\n",
       "    <tr style=\"text-align: right;\">\n",
       "      <th></th>\n",
       "      <th>Mean</th>\n",
       "      <th>SD</th>\n",
       "      <th>Variance</th>\n",
       "      <th>Range</th>\n",
       "      <th>Class</th>\n",
       "    </tr>\n",
       "    <tr>\n",
       "      <th>DATETIME</th>\n",
       "      <th></th>\n",
       "      <th></th>\n",
       "      <th></th>\n",
       "      <th></th>\n",
       "      <th></th>\n",
       "    </tr>\n",
       "  </thead>\n",
       "  <tbody>\n",
       "    <tr>\n",
       "      <th>2021-01-07 00:11:00</th>\n",
       "      <td>152.190</td>\n",
       "      <td>13.291947</td>\n",
       "      <td>141.340680</td>\n",
       "      <td>28.45</td>\n",
       "      <td>0</td>\n",
       "    </tr>\n",
       "    <tr>\n",
       "      <th>2021-01-07 00:12:00</th>\n",
       "      <td>152.256</td>\n",
       "      <td>13.369126</td>\n",
       "      <td>142.986824</td>\n",
       "      <td>28.34</td>\n",
       "      <td>0</td>\n",
       "    </tr>\n",
       "    <tr>\n",
       "      <th>2021-01-07 00:13:00</th>\n",
       "      <td>152.146</td>\n",
       "      <td>13.411698</td>\n",
       "      <td>143.898904</td>\n",
       "      <td>28.22</td>\n",
       "      <td>0</td>\n",
       "    </tr>\n",
       "    <tr>\n",
       "      <th>2021-01-07 00:14:00</th>\n",
       "      <td>152.122</td>\n",
       "      <td>13.394236</td>\n",
       "      <td>143.524456</td>\n",
       "      <td>28.34</td>\n",
       "      <td>0</td>\n",
       "    </tr>\n",
       "    <tr>\n",
       "      <th>2021-01-07 00:15:00</th>\n",
       "      <td>152.052</td>\n",
       "      <td>13.390699</td>\n",
       "      <td>143.448656</td>\n",
       "      <td>28.34</td>\n",
       "      <td>0</td>\n",
       "    </tr>\n",
       "    <tr>\n",
       "      <th>...</th>\n",
       "      <td>...</td>\n",
       "      <td>...</td>\n",
       "      <td>...</td>\n",
       "      <td>...</td>\n",
       "      <td>...</td>\n",
       "    </tr>\n",
       "    <tr>\n",
       "      <th>2022-04-06 17:42:00</th>\n",
       "      <td>215.218</td>\n",
       "      <td>13.048447</td>\n",
       "      <td>136.209576</td>\n",
       "      <td>26.31</td>\n",
       "      <td>0</td>\n",
       "    </tr>\n",
       "    <tr>\n",
       "      <th>2022-04-06 17:43:00</th>\n",
       "      <td>215.174</td>\n",
       "      <td>13.016059</td>\n",
       "      <td>135.534224</td>\n",
       "      <td>26.19</td>\n",
       "      <td>0</td>\n",
       "    </tr>\n",
       "    <tr>\n",
       "      <th>2022-04-06 17:44:00</th>\n",
       "      <td>215.196</td>\n",
       "      <td>12.987018</td>\n",
       "      <td>134.930104</td>\n",
       "      <td>26.08</td>\n",
       "      <td>0</td>\n",
       "    </tr>\n",
       "    <tr>\n",
       "      <th>2022-04-06 17:45:00</th>\n",
       "      <td>215.264</td>\n",
       "      <td>13.064981</td>\n",
       "      <td>136.554984</td>\n",
       "      <td>25.98</td>\n",
       "      <td>0</td>\n",
       "    </tr>\n",
       "    <tr>\n",
       "      <th>2022-04-06 17:46:00</th>\n",
       "      <td>215.130</td>\n",
       "      <td>12.983257</td>\n",
       "      <td>134.851960</td>\n",
       "      <td>25.97</td>\n",
       "      <td>0</td>\n",
       "    </tr>\n",
       "  </tbody>\n",
       "</table>\n",
       "<p>484736 rows × 5 columns</p>\n",
       "</div>"
      ],
      "text/plain": [
       "                        Mean         SD    Variance  Range  Class\n",
       "DATETIME                                                         \n",
       "2021-01-07 00:11:00  152.190  13.291947  141.340680  28.45      0\n",
       "2021-01-07 00:12:00  152.256  13.369126  142.986824  28.34      0\n",
       "2021-01-07 00:13:00  152.146  13.411698  143.898904  28.22      0\n",
       "2021-01-07 00:14:00  152.122  13.394236  143.524456  28.34      0\n",
       "2021-01-07 00:15:00  152.052  13.390699  143.448656  28.34      0\n",
       "...                      ...        ...         ...    ...    ...\n",
       "2022-04-06 17:42:00  215.218  13.048447  136.209576  26.31      0\n",
       "2022-04-06 17:43:00  215.174  13.016059  135.534224  26.19      0\n",
       "2022-04-06 17:44:00  215.196  12.987018  134.930104  26.08      0\n",
       "2022-04-06 17:45:00  215.264  13.064981  136.554984  25.98      0\n",
       "2022-04-06 17:46:00  215.130  12.983257  134.851960  25.97      0\n",
       "\n",
       "[484736 rows x 5 columns]"
      ]
     },
     "execution_count": 3,
     "metadata": {},
     "output_type": "execute_result"
    }
   ],
   "source": [
    "training_data = utils_stats.load_data()\n",
    "training_data"
   ]
  },
  {
   "cell_type": "code",
   "execution_count": 4,
   "id": "f508d0a4",
   "metadata": {},
   "outputs": [
    {
     "data": {
      "text/html": [
       "<div>\n",
       "<style scoped>\n",
       "    .dataframe tbody tr th:only-of-type {\n",
       "        vertical-align: middle;\n",
       "    }\n",
       "\n",
       "    .dataframe tbody tr th {\n",
       "        vertical-align: top;\n",
       "    }\n",
       "\n",
       "    .dataframe thead th {\n",
       "        text-align: right;\n",
       "    }\n",
       "</style>\n",
       "<table border=\"1\" class=\"dataframe\">\n",
       "  <thead>\n",
       "    <tr style=\"text-align: right;\">\n",
       "      <th></th>\n",
       "      <th>DATETIME</th>\n",
       "      <th>Mean</th>\n",
       "      <th>SD</th>\n",
       "      <th>Variance</th>\n",
       "      <th>Range</th>\n",
       "      <th>Class</th>\n",
       "    </tr>\n",
       "  </thead>\n",
       "  <tbody>\n",
       "    <tr>\n",
       "      <th>0</th>\n",
       "      <td>6/12/2022 10:37</td>\n",
       "      <td>-152.225163</td>\n",
       "      <td>16.542885</td>\n",
       "      <td>218.933647</td>\n",
       "      <td>44.988208</td>\n",
       "      <td>0</td>\n",
       "    </tr>\n",
       "    <tr>\n",
       "      <th>1</th>\n",
       "      <td>6/12/2022 10:38</td>\n",
       "      <td>-155.087563</td>\n",
       "      <td>16.900798</td>\n",
       "      <td>228.509566</td>\n",
       "      <td>45.995025</td>\n",
       "      <td>0</td>\n",
       "    </tr>\n",
       "    <tr>\n",
       "      <th>2</th>\n",
       "      <td>6/12/2022 10:39</td>\n",
       "      <td>-160.398335</td>\n",
       "      <td>16.891930</td>\n",
       "      <td>228.269839</td>\n",
       "      <td>45.957400</td>\n",
       "      <td>0</td>\n",
       "    </tr>\n",
       "    <tr>\n",
       "      <th>3</th>\n",
       "      <td>6/12/2022 10:40</td>\n",
       "      <td>-171.106450</td>\n",
       "      <td>17.743946</td>\n",
       "      <td>251.878097</td>\n",
       "      <td>48.422667</td>\n",
       "      <td>0</td>\n",
       "    </tr>\n",
       "    <tr>\n",
       "      <th>4</th>\n",
       "      <td>6/12/2022 10:41</td>\n",
       "      <td>-181.790077</td>\n",
       "      <td>17.792495</td>\n",
       "      <td>253.258294</td>\n",
       "      <td>48.385033</td>\n",
       "      <td>0</td>\n",
       "    </tr>\n",
       "    <tr>\n",
       "      <th>...</th>\n",
       "      <td>...</td>\n",
       "      <td>...</td>\n",
       "      <td>...</td>\n",
       "      <td>...</td>\n",
       "      <td>...</td>\n",
       "      <td>...</td>\n",
       "    </tr>\n",
       "    <tr>\n",
       "      <th>14824</th>\n",
       "      <td>16/12/2022 18:00</td>\n",
       "      <td>183.862695</td>\n",
       "      <td>14.186166</td>\n",
       "      <td>160.997853</td>\n",
       "      <td>30.581183</td>\n",
       "      <td>0</td>\n",
       "    </tr>\n",
       "    <tr>\n",
       "      <th>14825</th>\n",
       "      <td>16/12/2022 18:01</td>\n",
       "      <td>183.738482</td>\n",
       "      <td>14.280318</td>\n",
       "      <td>163.141986</td>\n",
       "      <td>30.637625</td>\n",
       "      <td>0</td>\n",
       "    </tr>\n",
       "    <tr>\n",
       "      <th>14826</th>\n",
       "      <td>16/12/2022 18:02</td>\n",
       "      <td>183.732830</td>\n",
       "      <td>14.247713</td>\n",
       "      <td>162.397863</td>\n",
       "      <td>30.581133</td>\n",
       "      <td>0</td>\n",
       "    </tr>\n",
       "    <tr>\n",
       "      <th>14827</th>\n",
       "      <td>16/12/2022 18:03</td>\n",
       "      <td>183.747868</td>\n",
       "      <td>14.150273</td>\n",
       "      <td>160.184182</td>\n",
       "      <td>30.599933</td>\n",
       "      <td>0</td>\n",
       "    </tr>\n",
       "    <tr>\n",
       "      <th>14828</th>\n",
       "      <td>16/12/2022 18:04</td>\n",
       "      <td>183.770450</td>\n",
       "      <td>14.052694</td>\n",
       "      <td>157.982575</td>\n",
       "      <td>30.590517</td>\n",
       "      <td>0</td>\n",
       "    </tr>\n",
       "  </tbody>\n",
       "</table>\n",
       "<p>14829 rows × 6 columns</p>\n",
       "</div>"
      ],
      "text/plain": [
       "               DATETIME        Mean         SD    Variance      Range  Class\n",
       "0       6/12/2022 10:37 -152.225163  16.542885  218.933647  44.988208      0\n",
       "1       6/12/2022 10:38 -155.087563  16.900798  228.509566  45.995025      0\n",
       "2       6/12/2022 10:39 -160.398335  16.891930  228.269839  45.957400      0\n",
       "3       6/12/2022 10:40 -171.106450  17.743946  251.878097  48.422667      0\n",
       "4       6/12/2022 10:41 -181.790077  17.792495  253.258294  48.385033      0\n",
       "...                 ...         ...        ...         ...        ...    ...\n",
       "14824  16/12/2022 18:00  183.862695  14.186166  160.997853  30.581183      0\n",
       "14825  16/12/2022 18:01  183.738482  14.280318  163.141986  30.637625      0\n",
       "14826  16/12/2022 18:02  183.732830  14.247713  162.397863  30.581133      0\n",
       "14827  16/12/2022 18:03  183.747868  14.150273  160.184182  30.599933      0\n",
       "14828  16/12/2022 18:04  183.770450  14.052694  157.982575  30.590517      0\n",
       "\n",
       "[14829 rows x 6 columns]"
      ]
     },
     "execution_count": 4,
     "metadata": {},
     "output_type": "execute_result"
    }
   ],
   "source": [
    "test_data = pd.read_csv(\"XGBoost-Windowing-HP-Train-11HP_Drum_Level-Test-Change_Datetime.csv\", delimiter=\",\")\n",
    "test_data"
   ]
  },
  {
   "cell_type": "code",
   "execution_count": 5,
   "id": "241d7b49",
   "metadata": {},
   "outputs": [
    {
     "data": {
      "text/html": [
       "<div>\n",
       "<style scoped>\n",
       "    .dataframe tbody tr th:only-of-type {\n",
       "        vertical-align: middle;\n",
       "    }\n",
       "\n",
       "    .dataframe tbody tr th {\n",
       "        vertical-align: top;\n",
       "    }\n",
       "\n",
       "    .dataframe thead th {\n",
       "        text-align: right;\n",
       "    }\n",
       "</style>\n",
       "<table border=\"1\" class=\"dataframe\">\n",
       "  <thead>\n",
       "    <tr style=\"text-align: right;\">\n",
       "      <th></th>\n",
       "      <th>DATETIME</th>\n",
       "      <th>Mean</th>\n",
       "      <th>SD</th>\n",
       "      <th>Variance</th>\n",
       "      <th>Range</th>\n",
       "      <th>Class</th>\n",
       "    </tr>\n",
       "    <tr>\n",
       "      <th>DATETIME</th>\n",
       "      <th></th>\n",
       "      <th></th>\n",
       "      <th></th>\n",
       "      <th></th>\n",
       "      <th></th>\n",
       "      <th></th>\n",
       "    </tr>\n",
       "  </thead>\n",
       "  <tbody>\n",
       "    <tr>\n",
       "      <th>2022-06-12 10:37:00</th>\n",
       "      <td>6/12/2022 10:37</td>\n",
       "      <td>-152.225163</td>\n",
       "      <td>16.542885</td>\n",
       "      <td>218.933647</td>\n",
       "      <td>44.988208</td>\n",
       "      <td>0</td>\n",
       "    </tr>\n",
       "    <tr>\n",
       "      <th>2022-06-12 10:38:00</th>\n",
       "      <td>6/12/2022 10:38</td>\n",
       "      <td>-155.087563</td>\n",
       "      <td>16.900798</td>\n",
       "      <td>228.509566</td>\n",
       "      <td>45.995025</td>\n",
       "      <td>0</td>\n",
       "    </tr>\n",
       "    <tr>\n",
       "      <th>2022-06-12 10:39:00</th>\n",
       "      <td>6/12/2022 10:39</td>\n",
       "      <td>-160.398335</td>\n",
       "      <td>16.891930</td>\n",
       "      <td>228.269839</td>\n",
       "      <td>45.957400</td>\n",
       "      <td>0</td>\n",
       "    </tr>\n",
       "    <tr>\n",
       "      <th>2022-06-12 10:40:00</th>\n",
       "      <td>6/12/2022 10:40</td>\n",
       "      <td>-171.106450</td>\n",
       "      <td>17.743946</td>\n",
       "      <td>251.878097</td>\n",
       "      <td>48.422667</td>\n",
       "      <td>0</td>\n",
       "    </tr>\n",
       "    <tr>\n",
       "      <th>2022-06-12 10:41:00</th>\n",
       "      <td>6/12/2022 10:41</td>\n",
       "      <td>-181.790077</td>\n",
       "      <td>17.792495</td>\n",
       "      <td>253.258294</td>\n",
       "      <td>48.385033</td>\n",
       "      <td>0</td>\n",
       "    </tr>\n",
       "    <tr>\n",
       "      <th>...</th>\n",
       "      <td>...</td>\n",
       "      <td>...</td>\n",
       "      <td>...</td>\n",
       "      <td>...</td>\n",
       "      <td>...</td>\n",
       "      <td>...</td>\n",
       "    </tr>\n",
       "    <tr>\n",
       "      <th>2022-12-16 18:00:00</th>\n",
       "      <td>16/12/2022 18:00</td>\n",
       "      <td>183.862695</td>\n",
       "      <td>14.186166</td>\n",
       "      <td>160.997853</td>\n",
       "      <td>30.581183</td>\n",
       "      <td>0</td>\n",
       "    </tr>\n",
       "    <tr>\n",
       "      <th>2022-12-16 18:01:00</th>\n",
       "      <td>16/12/2022 18:01</td>\n",
       "      <td>183.738482</td>\n",
       "      <td>14.280318</td>\n",
       "      <td>163.141986</td>\n",
       "      <td>30.637625</td>\n",
       "      <td>0</td>\n",
       "    </tr>\n",
       "    <tr>\n",
       "      <th>2022-12-16 18:02:00</th>\n",
       "      <td>16/12/2022 18:02</td>\n",
       "      <td>183.732830</td>\n",
       "      <td>14.247713</td>\n",
       "      <td>162.397863</td>\n",
       "      <td>30.581133</td>\n",
       "      <td>0</td>\n",
       "    </tr>\n",
       "    <tr>\n",
       "      <th>2022-12-16 18:03:00</th>\n",
       "      <td>16/12/2022 18:03</td>\n",
       "      <td>183.747868</td>\n",
       "      <td>14.150273</td>\n",
       "      <td>160.184182</td>\n",
       "      <td>30.599933</td>\n",
       "      <td>0</td>\n",
       "    </tr>\n",
       "    <tr>\n",
       "      <th>2022-12-16 18:04:00</th>\n",
       "      <td>16/12/2022 18:04</td>\n",
       "      <td>183.770450</td>\n",
       "      <td>14.052694</td>\n",
       "      <td>157.982575</td>\n",
       "      <td>30.590517</td>\n",
       "      <td>0</td>\n",
       "    </tr>\n",
       "  </tbody>\n",
       "</table>\n",
       "<p>14829 rows × 6 columns</p>\n",
       "</div>"
      ],
      "text/plain": [
       "                             DATETIME        Mean         SD    Variance  \\\n",
       "DATETIME                                                                   \n",
       "2022-06-12 10:37:00   6/12/2022 10:37 -152.225163  16.542885  218.933647   \n",
       "2022-06-12 10:38:00   6/12/2022 10:38 -155.087563  16.900798  228.509566   \n",
       "2022-06-12 10:39:00   6/12/2022 10:39 -160.398335  16.891930  228.269839   \n",
       "2022-06-12 10:40:00   6/12/2022 10:40 -171.106450  17.743946  251.878097   \n",
       "2022-06-12 10:41:00   6/12/2022 10:41 -181.790077  17.792495  253.258294   \n",
       "...                               ...         ...        ...         ...   \n",
       "2022-12-16 18:00:00  16/12/2022 18:00  183.862695  14.186166  160.997853   \n",
       "2022-12-16 18:01:00  16/12/2022 18:01  183.738482  14.280318  163.141986   \n",
       "2022-12-16 18:02:00  16/12/2022 18:02  183.732830  14.247713  162.397863   \n",
       "2022-12-16 18:03:00  16/12/2022 18:03  183.747868  14.150273  160.184182   \n",
       "2022-12-16 18:04:00  16/12/2022 18:04  183.770450  14.052694  157.982575   \n",
       "\n",
       "                         Range  Class  \n",
       "DATETIME                               \n",
       "2022-06-12 10:37:00  44.988208      0  \n",
       "2022-06-12 10:38:00  45.995025      0  \n",
       "2022-06-12 10:39:00  45.957400      0  \n",
       "2022-06-12 10:40:00  48.422667      0  \n",
       "2022-06-12 10:41:00  48.385033      0  \n",
       "...                        ...    ...  \n",
       "2022-12-16 18:00:00  30.581183      0  \n",
       "2022-12-16 18:01:00  30.637625      0  \n",
       "2022-12-16 18:02:00  30.581133      0  \n",
       "2022-12-16 18:03:00  30.599933      0  \n",
       "2022-12-16 18:04:00  30.590517      0  \n",
       "\n",
       "[14829 rows x 6 columns]"
      ]
     },
     "execution_count": 5,
     "metadata": {},
     "output_type": "execute_result"
    }
   ],
   "source": [
    "test_data.index = pd.to_datetime(test_data[\"DATETIME\"])\n",
    "test_data"
   ]
  },
  {
   "cell_type": "code",
   "execution_count": 6,
   "id": "2b65ecd3",
   "metadata": {},
   "outputs": [
    {
     "data": {
      "text/html": [
       "<div>\n",
       "<style scoped>\n",
       "    .dataframe tbody tr th:only-of-type {\n",
       "        vertical-align: middle;\n",
       "    }\n",
       "\n",
       "    .dataframe tbody tr th {\n",
       "        vertical-align: top;\n",
       "    }\n",
       "\n",
       "    .dataframe thead th {\n",
       "        text-align: right;\n",
       "    }\n",
       "</style>\n",
       "<table border=\"1\" class=\"dataframe\">\n",
       "  <thead>\n",
       "    <tr style=\"text-align: right;\">\n",
       "      <th></th>\n",
       "      <th>Mean</th>\n",
       "      <th>SD</th>\n",
       "      <th>Variance</th>\n",
       "      <th>Range</th>\n",
       "      <th>Class</th>\n",
       "    </tr>\n",
       "    <tr>\n",
       "      <th>DATETIME</th>\n",
       "      <th></th>\n",
       "      <th></th>\n",
       "      <th></th>\n",
       "      <th></th>\n",
       "      <th></th>\n",
       "    </tr>\n",
       "  </thead>\n",
       "  <tbody>\n",
       "    <tr>\n",
       "      <th>2022-06-12 10:37:00</th>\n",
       "      <td>-152.225163</td>\n",
       "      <td>16.542885</td>\n",
       "      <td>218.933647</td>\n",
       "      <td>44.988208</td>\n",
       "      <td>0</td>\n",
       "    </tr>\n",
       "    <tr>\n",
       "      <th>2022-06-12 10:38:00</th>\n",
       "      <td>-155.087563</td>\n",
       "      <td>16.900798</td>\n",
       "      <td>228.509566</td>\n",
       "      <td>45.995025</td>\n",
       "      <td>0</td>\n",
       "    </tr>\n",
       "    <tr>\n",
       "      <th>2022-06-12 10:39:00</th>\n",
       "      <td>-160.398335</td>\n",
       "      <td>16.891930</td>\n",
       "      <td>228.269839</td>\n",
       "      <td>45.957400</td>\n",
       "      <td>0</td>\n",
       "    </tr>\n",
       "    <tr>\n",
       "      <th>2022-06-12 10:40:00</th>\n",
       "      <td>-171.106450</td>\n",
       "      <td>17.743946</td>\n",
       "      <td>251.878097</td>\n",
       "      <td>48.422667</td>\n",
       "      <td>0</td>\n",
       "    </tr>\n",
       "    <tr>\n",
       "      <th>2022-06-12 10:41:00</th>\n",
       "      <td>-181.790077</td>\n",
       "      <td>17.792495</td>\n",
       "      <td>253.258294</td>\n",
       "      <td>48.385033</td>\n",
       "      <td>0</td>\n",
       "    </tr>\n",
       "    <tr>\n",
       "      <th>...</th>\n",
       "      <td>...</td>\n",
       "      <td>...</td>\n",
       "      <td>...</td>\n",
       "      <td>...</td>\n",
       "      <td>...</td>\n",
       "    </tr>\n",
       "    <tr>\n",
       "      <th>2022-12-16 18:00:00</th>\n",
       "      <td>183.862695</td>\n",
       "      <td>14.186166</td>\n",
       "      <td>160.997853</td>\n",
       "      <td>30.581183</td>\n",
       "      <td>0</td>\n",
       "    </tr>\n",
       "    <tr>\n",
       "      <th>2022-12-16 18:01:00</th>\n",
       "      <td>183.738482</td>\n",
       "      <td>14.280318</td>\n",
       "      <td>163.141986</td>\n",
       "      <td>30.637625</td>\n",
       "      <td>0</td>\n",
       "    </tr>\n",
       "    <tr>\n",
       "      <th>2022-12-16 18:02:00</th>\n",
       "      <td>183.732830</td>\n",
       "      <td>14.247713</td>\n",
       "      <td>162.397863</td>\n",
       "      <td>30.581133</td>\n",
       "      <td>0</td>\n",
       "    </tr>\n",
       "    <tr>\n",
       "      <th>2022-12-16 18:03:00</th>\n",
       "      <td>183.747868</td>\n",
       "      <td>14.150273</td>\n",
       "      <td>160.184182</td>\n",
       "      <td>30.599933</td>\n",
       "      <td>0</td>\n",
       "    </tr>\n",
       "    <tr>\n",
       "      <th>2022-12-16 18:04:00</th>\n",
       "      <td>183.770450</td>\n",
       "      <td>14.052694</td>\n",
       "      <td>157.982575</td>\n",
       "      <td>30.590517</td>\n",
       "      <td>0</td>\n",
       "    </tr>\n",
       "  </tbody>\n",
       "</table>\n",
       "<p>14829 rows × 5 columns</p>\n",
       "</div>"
      ],
      "text/plain": [
       "                           Mean         SD    Variance      Range  Class\n",
       "DATETIME                                                                \n",
       "2022-06-12 10:37:00 -152.225163  16.542885  218.933647  44.988208      0\n",
       "2022-06-12 10:38:00 -155.087563  16.900798  228.509566  45.995025      0\n",
       "2022-06-12 10:39:00 -160.398335  16.891930  228.269839  45.957400      0\n",
       "2022-06-12 10:40:00 -171.106450  17.743946  251.878097  48.422667      0\n",
       "2022-06-12 10:41:00 -181.790077  17.792495  253.258294  48.385033      0\n",
       "...                         ...        ...         ...        ...    ...\n",
       "2022-12-16 18:00:00  183.862695  14.186166  160.997853  30.581183      0\n",
       "2022-12-16 18:01:00  183.738482  14.280318  163.141986  30.637625      0\n",
       "2022-12-16 18:02:00  183.732830  14.247713  162.397863  30.581133      0\n",
       "2022-12-16 18:03:00  183.747868  14.150273  160.184182  30.599933      0\n",
       "2022-12-16 18:04:00  183.770450  14.052694  157.982575  30.590517      0\n",
       "\n",
       "[14829 rows x 5 columns]"
      ]
     },
     "execution_count": 6,
     "metadata": {},
     "output_type": "execute_result"
    }
   ],
   "source": [
    "test_data.drop(['DATETIME'], axis=1)"
   ]
  },
  {
   "cell_type": "markdown",
   "id": "e3891d11",
   "metadata": {},
   "source": [
    "## 3.2 Slice data for windowing and create test data for xgboost"
   ]
  },
  {
   "cell_type": "code",
   "execution_count": 7,
   "id": "6e495e0f",
   "metadata": {},
   "outputs": [
    {
     "name": "stdout",
     "output_type": "stream",
     "text": [
      "Preparing data..\n",
      "Finished preparing data!\n",
      "Preparing data..\n",
      "Finished preparing data!\n"
     ]
    }
   ],
   "source": [
    "# Create indices. Must be passed to function that creates (X,Y) pairs so that\n",
    "# it knows where to slice the data\n",
    "training_indices = utils_stats.get_indices_entire_sequence(\n",
    "    data=training_data, \n",
    "    window_size=hyperparameters[\"in_length\"]+target_sequence_length, \n",
    "    step_size=hyperparameters[\"step_size\"]\n",
    "    )\n",
    "\n",
    "# Obtain (X,Y) pairs of training data\n",
    "x_train, y_train = utils_stats.get_xgboost_x_y(\n",
    "    indices=training_indices, \n",
    "    data=training_data[hyperparameters[\"selected_features\"]].to_numpy(),\n",
    "    target_sequence_length=target_sequence_length,\n",
    "    input_seq_len=hyperparameters[\"in_length\"]\n",
    "    )\n",
    "\n",
    "test_indices = utils_stats.get_indices_entire_sequence(\n",
    "    data=test_data, \n",
    "    window_size=hyperparameters[\"in_length\"]+target_sequence_length, \n",
    "    step_size=1\n",
    "    )\n",
    "\n",
    "# Obtain (X,Y) pairs of test data\n",
    "x_test, y_test = utils_stats.get_xgboost_x_y(\n",
    "    indices=test_indices, \n",
    "    data=test_data[hyperparameters[\"selected_features\"]].to_numpy(),\n",
    "    target_sequence_length=target_sequence_length,\n",
    "    input_seq_len=hyperparameters[\"in_length\"]\n",
    "    )"
   ]
  },
  {
   "cell_type": "code",
   "execution_count": 8,
   "id": "a3938cca",
   "metadata": {},
   "outputs": [
    {
     "data": {
      "text/plain": [
       "array([[152.19      ,  13.29194681, 141.34068   , ..., 143.448656  ,\n",
       "         28.34      ,   0.        ],\n",
       "       [152.256     ,  13.369126  , 142.986824  , ..., 140.826064  ,\n",
       "         28.23      ,   0.        ],\n",
       "       [152.146     ,  13.41169751, 143.898904  , ..., 138.314656  ,\n",
       "         28.        ,   0.        ],\n",
       "       ...,\n",
       "       [215.424     ,  13.21282824, 139.663064  , ..., 136.209576  ,\n",
       "         26.31      ,   0.        ],\n",
       "       [215.266     ,  13.08536129, 136.981344  , ..., 135.534224  ,\n",
       "         26.19      ,   0.        ],\n",
       "       [215.24      ,  13.07486138, 136.7616    , ..., 134.930104  ,\n",
       "         26.08      ,   0.        ]])"
      ]
     },
     "execution_count": 8,
     "metadata": {},
     "output_type": "execute_result"
    }
   ],
   "source": [
    "x_train"
   ]
  },
  {
   "cell_type": "code",
   "execution_count": 9,
   "id": "81b87e95",
   "metadata": {},
   "outputs": [
    {
     "data": {
      "text/plain": [
       "array([[152.214     ,  13.26772701, 140.826064  ,  28.23      ,\n",
       "          0.        ],\n",
       "       [152.032     ,  13.14889045, 138.314656  ,  28.        ,\n",
       "          0.        ],\n",
       "       [151.918     ,  13.12935718, 137.904016  ,  27.89      ,\n",
       "          0.        ],\n",
       "       ...,\n",
       "       [215.174     ,  13.01605854, 135.534224  ,  26.19      ,\n",
       "          0.        ],\n",
       "       [215.196     ,  12.98701775, 134.930104  ,  26.08      ,\n",
       "          0.        ],\n",
       "       [215.264     ,  13.06498106, 136.554984  ,  25.98      ,\n",
       "          0.        ]])"
      ]
     },
     "execution_count": 9,
     "metadata": {},
     "output_type": "execute_result"
    }
   ],
   "source": [
    "y_train"
   ]
  },
  {
   "cell_type": "code",
   "execution_count": 10,
   "id": "22ebde0d",
   "metadata": {},
   "outputs": [
    {
     "data": {
      "text/plain": [
       "array([[-152.2251633 ,   16.54288544,  218.933647  , ...,  253.2582938 ,\n",
       "          48.38503333,    0.        ],\n",
       "       [-155.0875633 ,   16.90079754,  228.509566  , ...,  261.3483963 ,\n",
       "          49.60826667,    0.        ],\n",
       "       [-160.398335  ,   16.89192999,  228.269839  , ...,  262.9724585 ,\n",
       "          49.1378    ,    0.        ],\n",
       "       ...,\n",
       "       [ 183.9643    ,   14.24561124,  162.3499516 , ...,  160.997853  ,\n",
       "          30.58118333,    0.        ],\n",
       "       [ 184.011355  ,   14.14701252,  160.1103706 , ...,  163.1419863 ,\n",
       "          30.637625  ,    0.        ],\n",
       "       [ 184.0377033 ,   14.05530427,  158.0412625 , ...,  162.3978628 ,\n",
       "          30.58113333,    0.        ]])"
      ]
     },
     "execution_count": 10,
     "metadata": {},
     "output_type": "execute_result"
    }
   ],
   "source": [
    "x_test"
   ]
  },
  {
   "cell_type": "code",
   "execution_count": 11,
   "id": "c99db5d8",
   "metadata": {},
   "outputs": [
    {
     "data": {
      "text/plain": [
       "array([[-186.9879483 ,   18.07444316,  261.3483963 ,   49.60826667,\n",
       "           0.        ],\n",
       "       [-195.3699917 ,   18.13051497,  262.9724585 ,   49.1378    ,\n",
       "           0.        ],\n",
       "       [-200.1331317 ,   18.27482568,  267.1754029 ,   49.80594167,\n",
       "           0.        ],\n",
       "       ...,\n",
       "       [ 183.7384817 ,   14.28031803,  163.1419863 ,   30.637625  ,\n",
       "           0.        ],\n",
       "       [ 183.73283   ,   14.2477131 ,  162.3978628 ,   30.58113333,\n",
       "           0.        ],\n",
       "       [ 183.7478683 ,   14.15027307,  160.1841825 ,   30.59993333,\n",
       "           0.        ]])"
      ]
     },
     "execution_count": 11,
     "metadata": {},
     "output_type": "execute_result"
    }
   ],
   "source": [
    "y_test"
   ]
  },
  {
   "cell_type": "code",
   "execution_count": 12,
   "id": "016873c5",
   "metadata": {},
   "outputs": [
    {
     "name": "stdout",
     "output_type": "stream",
     "text": [
      "Shape of x_train: (484730, 25)\n",
      "Shape of y_train: (484730, 5)\n",
      "Shape of x_test: (14823, 25)\n",
      "Shape of y_test: (14823, 5)\n"
     ]
    }
   ],
   "source": [
    "print(\"Shape of x_train: {}\".format(x_train.shape))\n",
    "print(\"Shape of y_train: {}\".format(y_train.shape))\n",
    "print(\"Shape of x_test: {}\".format(x_test.shape))\n",
    "print(\"Shape of y_test: {}\".format(y_test.shape))"
   ]
  },
  {
   "cell_type": "code",
   "execution_count": 13,
   "id": "daa7ea69",
   "metadata": {},
   "outputs": [
    {
     "data": {
      "text/plain": [
       "array([[152.214     ,  13.26772701, 140.826064  ,  28.23      ],\n",
       "       [152.032     ,  13.14889045, 138.314656  ,  28.        ],\n",
       "       [151.918     ,  13.12935718, 137.904016  ,  27.89      ],\n",
       "       ...,\n",
       "       [215.174     ,  13.01605854, 135.534224  ,  26.19      ],\n",
       "       [215.196     ,  12.98701775, 134.930104  ,  26.08      ],\n",
       "       [215.264     ,  13.06498106, 136.554984  ,  25.98      ]])"
      ]
     },
     "execution_count": 13,
     "metadata": {},
     "output_type": "execute_result"
    }
   ],
   "source": [
    "x_train = y_train[:, 0:4] \n",
    "x_train"
   ]
  },
  {
   "cell_type": "code",
   "execution_count": 14,
   "id": "de5579de",
   "metadata": {},
   "outputs": [
    {
     "data": {
      "text/plain": [
       "array([0., 0., 0., ..., 0., 0., 0.])"
      ]
     },
     "execution_count": 14,
     "metadata": {},
     "output_type": "execute_result"
    }
   ],
   "source": [
    "y_train = y_train[:, 4]\n",
    "y_train"
   ]
  },
  {
   "cell_type": "code",
   "execution_count": 15,
   "id": "ac82fb57",
   "metadata": {},
   "outputs": [
    {
     "data": {
      "text/plain": [
       "array([[-186.9879483 ,   18.07444316,  261.3483963 ,   49.60826667],\n",
       "       [-195.3699917 ,   18.13051497,  262.9724585 ,   49.1378    ],\n",
       "       [-200.1331317 ,   18.27482568,  267.1754029 ,   49.80594167],\n",
       "       ...,\n",
       "       [ 183.7384817 ,   14.28031803,  163.1419863 ,   30.637625  ],\n",
       "       [ 183.73283   ,   14.2477131 ,  162.3978628 ,   30.58113333],\n",
       "       [ 183.7478683 ,   14.15027307,  160.1841825 ,   30.59993333]])"
      ]
     },
     "execution_count": 15,
     "metadata": {},
     "output_type": "execute_result"
    }
   ],
   "source": [
    "x_test = y_test[:, 0:4] \n",
    "x_test"
   ]
  },
  {
   "cell_type": "code",
   "execution_count": 16,
   "id": "63758d98",
   "metadata": {},
   "outputs": [
    {
     "data": {
      "text/plain": [
       "array([0., 0., 0., ..., 0., 0., 0.])"
      ]
     },
     "execution_count": 16,
     "metadata": {},
     "output_type": "execute_result"
    }
   ],
   "source": [
    "y_test = y_test[:, 4] \n",
    "y_test"
   ]
  },
  {
   "cell_type": "markdown",
   "id": "5292861b",
   "metadata": {},
   "source": [
    "# 4. Classifier"
   ]
  },
  {
   "cell_type": "markdown",
   "id": "ff4038aa",
   "metadata": {},
   "source": [
    "## 4.1 Train model"
   ]
  },
  {
   "cell_type": "code",
   "execution_count": 17,
   "id": "de39d199",
   "metadata": {},
   "outputs": [
    {
     "data": {
      "text/plain": [
       "array([0, 0, 0, ..., 0, 0, 0], dtype=int64)"
      ]
     },
     "execution_count": 17,
     "metadata": {},
     "output_type": "execute_result"
    }
   ],
   "source": [
    "from sklearn.preprocessing import LabelEncoder\n",
    "le = LabelEncoder()\n",
    "y_train = le.fit_transform(y_train)\n",
    "y_train"
   ]
  },
  {
   "cell_type": "code",
   "execution_count": 18,
   "id": "501f07ce",
   "metadata": {},
   "outputs": [],
   "source": [
    "# Initialize model\n",
    "model = xgb.XGBClassifier(\n",
    "    n_estimators=hyperparameters[\"n_estimators\"],\n",
    "    max_depth=hyperparameters[\"max_depth\"],\n",
    "    subsample=hyperparameters[\"subsample\"],\n",
    "    min_child_weight=hyperparameters[\"min_child_weight\"],\n",
    "    objective=\"reg:squarederror\",\n",
    "    tree_method=\"hist\"\n",
    "    )\n",
    "\n",
    "y_train\n",
    "\n",
    "trained_model = model.fit(x_train, y_train)\n",
    "\n",
    "train_forecasts = trained_model.predict(x_train)"
   ]
  },
  {
   "cell_type": "code",
   "execution_count": 19,
   "id": "5b093c93",
   "metadata": {},
   "outputs": [
    {
     "data": {
      "text/plain": [
       "array([[448413,     15],\n",
       "       [   258,  36044]], dtype=int64)"
      ]
     },
     "execution_count": 19,
     "metadata": {},
     "output_type": "execute_result"
    }
   ],
   "source": [
    "from sklearn.metrics import classification_report, confusion_matrix\n",
    "\n",
    "train_cm = confusion_matrix(y_train, train_forecasts)\n",
    "train_cm"
   ]
  },
  {
   "cell_type": "code",
   "execution_count": 25,
   "id": "4bcb00bb",
   "metadata": {},
   "outputs": [
    {
     "data": {
      "image/png": "[encoded data removed]",
      "text/plain": [
       "<Figure size 640x480 with 2 Axes>"
      ]
     },
     "metadata": {},
     "output_type": "display_data"
    }
   ],
   "source": [
    "import seaborn as sns\n",
    "\n",
    "ax = sns.heatmap(train_cm, annot=True, fmt='g', cmap=\"Blues\")\n",
    "\n",
    "ax.set_title('Seaborn Confusion Matrix with labels!!')\n",
    "ax.set_xlabel('Predicted label')\n",
    "ax.set_ylabel('True label')\n",
    "ax.xaxis.set_ticklabels(['0', '1'])\n",
    "ax.yaxis.set_ticklabels(['0', '1'])\n",
    "\n",
    "plt.show()"
   ]
  },
  {
   "cell_type": "code",
   "execution_count": 20,
   "id": "e2eea1d7",
   "metadata": {},
   "outputs": [
    {
     "name": "stdout",
     "output_type": "stream",
     "text": [
      "Accuracy score: 0.9994367998679677\n"
     ]
    }
   ],
   "source": [
    "from sklearn.metrics import accuracy_score\n",
    "\n",
    "acc_train = accuracy_score(y_train, train_forecasts)\n",
    "print(\"Accuracy score: {}\".format(acc_train))"
   ]
  },
  {
   "cell_type": "markdown",
   "id": "8454bfd7",
   "metadata": {},
   "source": [
    "## 4.2 Test model"
   ]
  },
  {
   "cell_type": "code",
   "execution_count": 21,
   "id": "874d3fc2",
   "metadata": {},
   "outputs": [
    {
     "name": "stdout",
     "output_type": "stream",
     "text": [
      "Mean Absolute Error: 0.0018889563516157322\n"
     ]
    }
   ],
   "source": [
    "test_forecasts = trained_model.predict(x_test)\n",
    "test_mae = mean_absolute_error(y_test, test_forecasts)\n",
    "# print(test_mae)\n",
    "print(\"Mean Absolute Error: {}\".format(test_mae))\n",
    "# print(\"Mean test data value: {}\".format(np.mean(y_test)))"
   ]
  },
  {
   "cell_type": "code",
   "execution_count": 26,
   "id": "181eec7b",
   "metadata": {},
   "outputs": [
    {
     "data": {
      "text/plain": [
       "array([0, 0, 0, ..., 0, 0, 0])"
      ]
     },
     "execution_count": 26,
     "metadata": {},
     "output_type": "execute_result"
    }
   ],
   "source": [
    "test_forecasts"
   ]
  },
  {
   "cell_type": "code",
   "execution_count": 22,
   "id": "e3a3248c",
   "metadata": {},
   "outputs": [
    {
     "data": {
      "text/plain": [
       "array([[14406,     3],\n",
       "       [   25,   389]], dtype=int64)"
      ]
     },
     "execution_count": 22,
     "metadata": {},
     "output_type": "execute_result"
    }
   ],
   "source": [
    "from sklearn.metrics import classification_report, confusion_matrix\n",
    "\n",
    "test_cm = confusion_matrix(y_test, test_forecasts)\n",
    "test_cm"
   ]
  },
  {
   "cell_type": "code",
   "execution_count": 24,
   "id": "5a953ac1",
   "metadata": {},
   "outputs": [
    {
     "data": {
      "image/png": "[encoded data removed]",
      "text/plain": [
       "<Figure size 640x480 with 2 Axes>"
      ]
     },
     "metadata": {},
     "output_type": "display_data"
    }
   ],
   "source": [
    "import seaborn as sns\n",
    "\n",
    "ax = sns.heatmap(test_cm, annot=True, fmt='g', cmap=\"Blues\")\n",
    "\n",
    "ax.set_title('Seaborn Confusion Matrix with labels!!')\n",
    "ax.set_xlabel('Predicted label')\n",
    "ax.set_ylabel('True label')\n",
    "ax.xaxis.set_ticklabels(['0', '1'])\n",
    "ax.yaxis.set_ticklabels(['0', '1'])\n",
    "\n",
    "plt.show()"
   ]
  },
  {
   "cell_type": "code",
   "execution_count": 23,
   "id": "ecd46b4b",
   "metadata": {},
   "outputs": [
    {
     "name": "stdout",
     "output_type": "stream",
     "text": [
      "Accuracy score: 0.9981110436483843\n"
     ]
    }
   ],
   "source": [
    "from sklearn.metrics import accuracy_score\n",
    "\n",
    "acc = accuracy_score(y_test, test_forecasts)\n",
    "print(\"Accuracy score: {}\".format(acc))"
   ]
  },
  {
   "cell_type": "markdown",
   "id": "fe67a71e",
   "metadata": {},
   "source": [
    "# 5. Save the Model"
   ]
  },
  {
   "cell_type": "markdown",
   "id": "01a35508",
   "metadata": {},
   "source": [
    "## 5.1 Save the Model"
   ]
  },
  {
   "cell_type": "code",
   "execution_count": 27,
   "id": "68ce3b5c",
   "metadata": {},
   "outputs": [],
   "source": [
    "# Save the entire model to a HDF5 file.\n",
    "\n",
    "# Save as JSON file\n",
    "trained_model.save_model('models/trained_model-HP_Drum_Level_entire_records-XGBoost-Window_5+1.json')\n",
    "\n",
    "# Save as TXT file\n",
    "trained_model.save_model('models/trained_model-HP_Drum_Level_entire_records-XGBoost-Window_5+1.txt')"
   ]
  },
  {
   "cell_type": "markdown",
   "id": "9dfa6ea3",
   "metadata": {},
   "source": [
    "## 5.2 Test 11HP_Drum_Level"
   ]
  },
  {
   "cell_type": "code",
   "execution_count": 2,
   "id": "99970907",
   "metadata": {},
   "outputs": [],
   "source": [
    "import xgboost as xgb"
   ]
  },
  {
   "cell_type": "code",
   "execution_count": 3,
   "id": "f894f16f",
   "metadata": {},
   "outputs": [],
   "source": [
    "# import h5py as h5\n",
    "\n",
    "# loaded_model = tf.keras.models.load_model('trained_model-HP_Drum_Level-XGBoost-Window_5+1.')\n",
    "\n",
    "# Blank new instance to be loaded into\n",
    "xbg_cla = xgb.Booster()\n",
    "\n",
    "xbg_cla.load_model(\"../models/trained_model-HP_Drum_Level_entire_records-XGBoost-Window_5+1.json\")"
   ]
  },
  {
   "cell_type": "code",
   "execution_count": 4,
   "id": "0098b860",
   "metadata": {},
   "outputs": [],
   "source": [
    "import pandas as pd"
   ]
  },
  {
   "cell_type": "code",
   "execution_count": 5,
   "id": "03334e53",
   "metadata": {},
   "outputs": [
    {
     "data": {
      "text/html": [
       "<div>\n",
       "<style scoped>\n",
       "    .dataframe tbody tr th:only-of-type {\n",
       "        vertical-align: middle;\n",
       "    }\n",
       "\n",
       "    .dataframe tbody tr th {\n",
       "        vertical-align: top;\n",
       "    }\n",
       "\n",
       "    .dataframe thead th {\n",
       "        text-align: right;\n",
       "    }\n",
       "</style>\n",
       "<table border=\"1\" class=\"dataframe\">\n",
       "  <thead>\n",
       "    <tr style=\"text-align: right;\">\n",
       "      <th></th>\n",
       "      <th>Mean</th>\n",
       "      <th>SD</th>\n",
       "      <th>Variance</th>\n",
       "      <th>Range</th>\n",
       "      <th>Class</th>\n",
       "    </tr>\n",
       "    <tr>\n",
       "      <th>DATETIME</th>\n",
       "      <th></th>\n",
       "      <th></th>\n",
       "      <th></th>\n",
       "      <th></th>\n",
       "      <th></th>\n",
       "    </tr>\n",
       "  </thead>\n",
       "  <tbody>\n",
       "    <tr>\n",
       "      <th>2022-06-12 10:37:00</th>\n",
       "      <td>-152.225163</td>\n",
       "      <td>16.542885</td>\n",
       "      <td>218.933647</td>\n",
       "      <td>44.988208</td>\n",
       "      <td>0</td>\n",
       "    </tr>\n",
       "    <tr>\n",
       "      <th>2022-06-12 10:38:00</th>\n",
       "      <td>-155.087563</td>\n",
       "      <td>16.900798</td>\n",
       "      <td>228.509566</td>\n",
       "      <td>45.995025</td>\n",
       "      <td>0</td>\n",
       "    </tr>\n",
       "    <tr>\n",
       "      <th>2022-06-12 10:39:00</th>\n",
       "      <td>-160.398335</td>\n",
       "      <td>16.891930</td>\n",
       "      <td>228.269839</td>\n",
       "      <td>45.957400</td>\n",
       "      <td>0</td>\n",
       "    </tr>\n",
       "    <tr>\n",
       "      <th>2022-06-12 10:40:00</th>\n",
       "      <td>-171.106450</td>\n",
       "      <td>17.743946</td>\n",
       "      <td>251.878097</td>\n",
       "      <td>48.422667</td>\n",
       "      <td>0</td>\n",
       "    </tr>\n",
       "    <tr>\n",
       "      <th>2022-06-12 10:41:00</th>\n",
       "      <td>-181.790077</td>\n",
       "      <td>17.792495</td>\n",
       "      <td>253.258294</td>\n",
       "      <td>48.385033</td>\n",
       "      <td>0</td>\n",
       "    </tr>\n",
       "    <tr>\n",
       "      <th>...</th>\n",
       "      <td>...</td>\n",
       "      <td>...</td>\n",
       "      <td>...</td>\n",
       "      <td>...</td>\n",
       "      <td>...</td>\n",
       "    </tr>\n",
       "    <tr>\n",
       "      <th>2022-12-16 18:00:00</th>\n",
       "      <td>183.862695</td>\n",
       "      <td>14.186166</td>\n",
       "      <td>160.997853</td>\n",
       "      <td>30.581183</td>\n",
       "      <td>0</td>\n",
       "    </tr>\n",
       "    <tr>\n",
       "      <th>2022-12-16 18:01:00</th>\n",
       "      <td>183.738482</td>\n",
       "      <td>14.280318</td>\n",
       "      <td>163.141986</td>\n",
       "      <td>30.637625</td>\n",
       "      <td>0</td>\n",
       "    </tr>\n",
       "    <tr>\n",
       "      <th>2022-12-16 18:02:00</th>\n",
       "      <td>183.732830</td>\n",
       "      <td>14.247713</td>\n",
       "      <td>162.397863</td>\n",
       "      <td>30.581133</td>\n",
       "      <td>0</td>\n",
       "    </tr>\n",
       "    <tr>\n",
       "      <th>2022-12-16 18:03:00</th>\n",
       "      <td>183.747868</td>\n",
       "      <td>14.150273</td>\n",
       "      <td>160.184182</td>\n",
       "      <td>30.599933</td>\n",
       "      <td>0</td>\n",
       "    </tr>\n",
       "    <tr>\n",
       "      <th>2022-12-16 18:04:00</th>\n",
       "      <td>183.770450</td>\n",
       "      <td>14.052694</td>\n",
       "      <td>157.982575</td>\n",
       "      <td>30.590517</td>\n",
       "      <td>0</td>\n",
       "    </tr>\n",
       "  </tbody>\n",
       "</table>\n",
       "<p>14829 rows × 5 columns</p>\n",
       "</div>"
      ],
      "text/plain": [
       "                           Mean         SD    Variance      Range  Class\n",
       "DATETIME                                                                \n",
       "2022-06-12 10:37:00 -152.225163  16.542885  218.933647  44.988208      0\n",
       "2022-06-12 10:38:00 -155.087563  16.900798  228.509566  45.995025      0\n",
       "2022-06-12 10:39:00 -160.398335  16.891930  228.269839  45.957400      0\n",
       "2022-06-12 10:40:00 -171.106450  17.743946  251.878097  48.422667      0\n",
       "2022-06-12 10:41:00 -181.790077  17.792495  253.258294  48.385033      0\n",
       "...                         ...        ...         ...        ...    ...\n",
       "2022-12-16 18:00:00  183.862695  14.186166  160.997853  30.581183      0\n",
       "2022-12-16 18:01:00  183.738482  14.280318  163.141986  30.637625      0\n",
       "2022-12-16 18:02:00  183.732830  14.247713  162.397863  30.581133      0\n",
       "2022-12-16 18:03:00  183.747868  14.150273  160.184182  30.599933      0\n",
       "2022-12-16 18:04:00  183.770450  14.052694  157.982575  30.590517      0\n",
       "\n",
       "[14829 rows x 5 columns]"
      ]
     },
     "execution_count": 5,
     "metadata": {},
     "output_type": "execute_result"
    }
   ],
   "source": [
    "test_data = pd.read_csv(\"../change_datetime_csv/XGBoost-Windowing-HP-Train-11HP_Drum_Level-Test-Change_Datetime.csv\", delimiter=\",\")\n",
    "test_data.index = pd.to_datetime(test_data[\"DATETIME\"])\n",
    "test_data.drop(['DATETIME'], axis=1)"
   ]
  },
  {
   "cell_type": "code",
   "execution_count": 6,
   "id": "4c2533b0",
   "metadata": {},
   "outputs": [],
   "source": [
    "test_data = test_data[test_data.columns[1:]].to_numpy()"
   ]
  },
  {
   "cell_type": "code",
   "execution_count": 7,
   "id": "c2d37ca5",
   "metadata": {},
   "outputs": [
    {
     "data": {
      "text/plain": [
       "array([[-152.2251633 ,   16.54288544,  218.933647  ,   44.98820833,\n",
       "           0.        ],\n",
       "       [-155.0875633 ,   16.90079754,  228.509566  ,   45.995025  ,\n",
       "           0.        ],\n",
       "       [-160.398335  ,   16.89192999,  228.269839  ,   45.9574    ,\n",
       "           0.        ],\n",
       "       ...,\n",
       "       [ 183.73283   ,   14.2477131 ,  162.3978628 ,   30.58113333,\n",
       "           0.        ],\n",
       "       [ 183.7478683 ,   14.15027307,  160.1841825 ,   30.59993333,\n",
       "           0.        ],\n",
       "       [ 183.77045   ,   14.05269437,  157.9825752 ,   30.59051667,\n",
       "           0.        ]])"
      ]
     },
     "execution_count": 7,
     "metadata": {},
     "output_type": "execute_result"
    }
   ],
   "source": [
    "test_data"
   ]
  },
  {
   "cell_type": "code",
   "execution_count": 8,
   "id": "3a4ba20a",
   "metadata": {},
   "outputs": [
    {
     "name": "stdout",
     "output_type": "stream",
     "text": [
      "Shape of x_test: (14829, 5)\n"
     ]
    }
   ],
   "source": [
    "print(\"Shape of x_test: {}\".format(test_data.shape))"
   ]
  },
  {
   "cell_type": "code",
   "execution_count": 9,
   "id": "77dbbf34",
   "metadata": {},
   "outputs": [
    {
     "data": {
      "text/plain": [
       "array([[-152.2251633 ,   16.54288544,  218.933647  ,   44.98820833],\n",
       "       [-155.0875633 ,   16.90079754,  228.509566  ,   45.995025  ],\n",
       "       [-160.398335  ,   16.89192999,  228.269839  ,   45.9574    ],\n",
       "       ...,\n",
       "       [ 183.73283   ,   14.2477131 ,  162.3978628 ,   30.58113333],\n",
       "       [ 183.7478683 ,   14.15027307,  160.1841825 ,   30.59993333],\n",
       "       [ 183.77045   ,   14.05269437,  157.9825752 ,   30.59051667]])"
      ]
     },
     "execution_count": 9,
     "metadata": {},
     "output_type": "execute_result"
    }
   ],
   "source": [
    "x_test = test_data[:, 0:4] \n",
    "x_test"
   ]
  },
  {
   "cell_type": "code",
   "execution_count": 10,
   "id": "3ba10775",
   "metadata": {},
   "outputs": [
    {
     "data": {
      "text/plain": [
       "array([0., 0., 0., ..., 0., 0., 0.])"
      ]
     },
     "execution_count": 10,
     "metadata": {},
     "output_type": "execute_result"
    }
   ],
   "source": [
    "y_test = test_data[:, 4] \n",
    "y_test"
   ]
  },
  {
   "cell_type": "markdown",
   "id": "bca3db00",
   "metadata": {},
   "source": [
    "### 5.2.1 Test model"
   ]
  },
  {
   "cell_type": "code",
   "execution_count": 11,
   "id": "683aad81",
   "metadata": {},
   "outputs": [],
   "source": [
    "from sklearn.metrics import mean_absolute_error"
   ]
  },
  {
   "cell_type": "code",
   "execution_count": 12,
   "id": "bcc13606",
   "metadata": {},
   "outputs": [
    {
     "name": "stdout",
     "output_type": "stream",
     "text": [
      "Mean Absolute Error: 0.0027166572068302607\n"
     ]
    }
   ],
   "source": [
    "# test_forecasts = xbg_cla.predict(x_test)\n",
    "test_forecasts = xbg_cla.predict(xgb.DMatrix(x_test))\n",
    "test_mae = mean_absolute_error(y_test, test_forecasts)\n",
    "# print(test_mae)\n",
    "print(\"Mean Absolute Error: {}\".format(test_mae))\n",
    "# print(\"Mean test data value: {}\".format(np.mean(y_test)))"
   ]
  },
  {
   "cell_type": "code",
   "execution_count": 13,
   "id": "450a961f",
   "metadata": {},
   "outputs": [
    {
     "data": {
      "text/plain": [
       "array([0.00039897, 0.00039897, 0.00039897, ..., 0.00039896, 0.00039896,\n",
       "       0.00039896], dtype=float32)"
      ]
     },
     "execution_count": 13,
     "metadata": {},
     "output_type": "execute_result"
    }
   ],
   "source": [
    "test_forecasts"
   ]
  },
  {
   "cell_type": "code",
   "execution_count": 14,
   "id": "66725164",
   "metadata": {},
   "outputs": [
    {
     "data": {
      "text/plain": [
       "array([[14412,     3],\n",
       "       [   25,   389]], dtype=int64)"
      ]
     },
     "execution_count": 14,
     "metadata": {},
     "output_type": "execute_result"
    }
   ],
   "source": [
    "from sklearn.metrics import classification_report, confusion_matrix\n",
    "# accuracy_score(y_true, y_pred.round(), normalize=False)\n",
    "test_cm = confusion_matrix(y_test, test_forecasts.round())\n",
    "test_cm"
   ]
  },
  {
   "cell_type": "code",
   "execution_count": 15,
   "id": "6206475a",
   "metadata": {},
   "outputs": [
    {
     "data": {
      "image/png": "[encoded data removed]",
      "text/plain": [
       "<Figure size 640x480 with 2 Axes>"
      ]
     },
     "metadata": {},
     "output_type": "display_data"
    }
   ],
   "source": [
    "import seaborn as sns\n",
    "import matplotlib.pyplot as plt\n",
    "\n",
    "ax = sns.heatmap(test_cm, annot=True, fmt='g', cmap=\"Blues\")\n",
    "\n",
    "ax.set_title('Seaborn Confusion Matrix with labels!!')\n",
    "ax.set_xlabel('Predicted label')\n",
    "ax.set_ylabel('True label')\n",
    "ax.xaxis.set_ticklabels(['0', '1'])\n",
    "ax.yaxis.set_ticklabels(['0', '1'])\n",
    "\n",
    "plt.show()"
   ]
  },
  {
   "cell_type": "code",
   "execution_count": 16,
   "id": "212b9e25",
   "metadata": {},
   "outputs": [
    {
     "name": "stdout",
     "output_type": "stream",
     "text": [
      "Accuracy score: 0.9981118079438938\n"
     ]
    }
   ],
   "source": [
    "from sklearn.metrics import accuracy_score\n",
    "\n",
    "acc = accuracy_score(y_test, test_forecasts.round())\n",
    "print(\"Accuracy score: {}\".format(acc))"
   ]
  },
  {
   "cell_type": "code",
   "execution_count": null,
   "id": "11ce90dd",
   "metadata": {},
   "outputs": [],
   "source": []
  }
 ],
 "metadata": {
  "kernelspec": {
   "display_name": "Python 3 (ipykernel)",
   "language": "python",
   "name": "python3"
  },
  "language_info": {
   "codemirror_mode": {
    "name": "ipython",
    "version": 3
   },
   "file_extension": ".py",
   "mimetype": "text/x-python",
   "name": "python",
   "nbconvert_exporter": "python",
   "pygments_lexer": "ipython3",
   "version": "3.9.13"
  }
 },
 "nbformat": 4,
 "nbformat_minor": 5
}
